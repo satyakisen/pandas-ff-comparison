{
  "nbformat": 4,
  "nbformat_minor": 0,
  "metadata": {
    "colab": {
      "provenance": [],
      "authorship_tag": "ABX9TyMTDj0JimCzp1MdTj2rwl2M",
      "include_colab_link": true
    },
    "kernelspec": {
      "name": "python3",
      "display_name": "Python 3"
    },
    "language_info": {
      "name": "python"
    }
  },
  "cells": [
    {
      "cell_type": "markdown",
      "metadata": {
        "id": "view-in-github",
        "colab_type": "text"
      },
      "source": [
        "<a href=\"https://colab.research.google.com/github/satyakisen/pandas-ff-comparison/blob/main/Pandas_File_Format_Comparison.ipynb\" target=\"_parent\"><img src=\"https://colab.research.google.com/assets/colab-badge.svg\" alt=\"Open In Colab\"/></a>"
      ]
    },
    {
      "cell_type": "markdown",
      "source": [
        "# Pandas File Format Comparision\n",
        "## Overview\n",
        "In this notebook let us compare the following pandas file formats.\n",
        "1. csv - common text file that is comma seperated.\n",
        "2. hdf5 - an open source file format that supports large, complex, heterogeneous data\n",
        "3. parquet - an open source, column-oriented data file format designed for efficient data storage and retrieval.\n",
        "4. feather - a portable file format for storing Arrow tables or data frames (from languages like Python or R) that utilizes the Arrow IPC format internally\n",
        "\n",
        "Comparision parameters to consider are:\n",
        "1. Time to write.\n",
        "2. Time to read.\n",
        "3. File size on disk.\n",
        "\n",
        "## Let us begin\n",
        "Let us begin by creating a dummy dataset containing only random float."
      ],
      "metadata": {
        "id": "97FNsEkHjZaj"
      }
    },
    {
      "cell_type": "code",
      "execution_count": 3,
      "metadata": {
        "id": "Cz0sTNA1jHuL"
      },
      "outputs": [],
      "source": [
        "import pandas as pd\n",
        "import numpy as np\n",
        "\n",
        "def make_data(row_n, col_n):\n",
        "  arr = np.random.randn(row_n, col_n)\n",
        "  df = pd.DataFrame(arr, columns=['col_{0}'.format(i) for i in range(col_n)])\n",
        "  return df\n",
        "\n",
        "df = make_data(100000, 10)"
      ]
    },
    {
      "cell_type": "markdown",
      "source": [
        "Let us check the dummy dataset we made."
      ],
      "metadata": {
        "id": "Hw9cgrxjquTr"
      }
    },
    {
      "cell_type": "code",
      "source": [
        "df.head(5)"
      ],
      "metadata": {
        "id": "ovnaAuM2smjW",
        "outputId": "dc629f8b-8efc-45d1-8c02-8de656431313",
        "colab": {
          "base_uri": "https://localhost:8080/",
          "height": 206
        }
      },
      "execution_count": 4,
      "outputs": [
        {
          "output_type": "execute_result",
          "data": {
            "text/plain": [
              "      col_0     col_1     col_2     col_3     col_4     col_5     col_6  \\\n",
              "0  0.268581  0.528943 -1.447149  1.065151  1.990748  0.264007  0.474082   \n",
              "1  0.245928 -0.755610  0.595658 -1.581838  1.518598  1.507621  1.053752   \n",
              "2  0.462662 -0.299092  2.870275 -0.920234  0.384289  0.853863  2.750504   \n",
              "3 -0.214414  2.169669 -1.660826  1.246721  0.340115 -0.152463 -1.196192   \n",
              "4  0.191410  0.928366  0.227941  2.163700 -1.135679  0.149892  1.223956   \n",
              "\n",
              "      col_7     col_8     col_9  \n",
              "0 -0.274708  2.836983 -1.188290  \n",
              "1  0.914109  0.997426  0.363120  \n",
              "2  0.051945 -0.761517  1.201193  \n",
              "3  1.817195  1.195896 -1.093683  \n",
              "4 -0.549677 -0.679656  0.166663  "
            ],
            "text/html": [
              "\n",
              "  <div id=\"df-c029f1f7-60b9-4934-aa42-f5bdc53e3e94\">\n",
              "    <div class=\"colab-df-container\">\n",
              "      <div>\n",
              "<style scoped>\n",
              "    .dataframe tbody tr th:only-of-type {\n",
              "        vertical-align: middle;\n",
              "    }\n",
              "\n",
              "    .dataframe tbody tr th {\n",
              "        vertical-align: top;\n",
              "    }\n",
              "\n",
              "    .dataframe thead th {\n",
              "        text-align: right;\n",
              "    }\n",
              "</style>\n",
              "<table border=\"1\" class=\"dataframe\">\n",
              "  <thead>\n",
              "    <tr style=\"text-align: right;\">\n",
              "      <th></th>\n",
              "      <th>col_0</th>\n",
              "      <th>col_1</th>\n",
              "      <th>col_2</th>\n",
              "      <th>col_3</th>\n",
              "      <th>col_4</th>\n",
              "      <th>col_5</th>\n",
              "      <th>col_6</th>\n",
              "      <th>col_7</th>\n",
              "      <th>col_8</th>\n",
              "      <th>col_9</th>\n",
              "    </tr>\n",
              "  </thead>\n",
              "  <tbody>\n",
              "    <tr>\n",
              "      <th>0</th>\n",
              "      <td>0.268581</td>\n",
              "      <td>0.528943</td>\n",
              "      <td>-1.447149</td>\n",
              "      <td>1.065151</td>\n",
              "      <td>1.990748</td>\n",
              "      <td>0.264007</td>\n",
              "      <td>0.474082</td>\n",
              "      <td>-0.274708</td>\n",
              "      <td>2.836983</td>\n",
              "      <td>-1.188290</td>\n",
              "    </tr>\n",
              "    <tr>\n",
              "      <th>1</th>\n",
              "      <td>0.245928</td>\n",
              "      <td>-0.755610</td>\n",
              "      <td>0.595658</td>\n",
              "      <td>-1.581838</td>\n",
              "      <td>1.518598</td>\n",
              "      <td>1.507621</td>\n",
              "      <td>1.053752</td>\n",
              "      <td>0.914109</td>\n",
              "      <td>0.997426</td>\n",
              "      <td>0.363120</td>\n",
              "    </tr>\n",
              "    <tr>\n",
              "      <th>2</th>\n",
              "      <td>0.462662</td>\n",
              "      <td>-0.299092</td>\n",
              "      <td>2.870275</td>\n",
              "      <td>-0.920234</td>\n",
              "      <td>0.384289</td>\n",
              "      <td>0.853863</td>\n",
              "      <td>2.750504</td>\n",
              "      <td>0.051945</td>\n",
              "      <td>-0.761517</td>\n",
              "      <td>1.201193</td>\n",
              "    </tr>\n",
              "    <tr>\n",
              "      <th>3</th>\n",
              "      <td>-0.214414</td>\n",
              "      <td>2.169669</td>\n",
              "      <td>-1.660826</td>\n",
              "      <td>1.246721</td>\n",
              "      <td>0.340115</td>\n",
              "      <td>-0.152463</td>\n",
              "      <td>-1.196192</td>\n",
              "      <td>1.817195</td>\n",
              "      <td>1.195896</td>\n",
              "      <td>-1.093683</td>\n",
              "    </tr>\n",
              "    <tr>\n",
              "      <th>4</th>\n",
              "      <td>0.191410</td>\n",
              "      <td>0.928366</td>\n",
              "      <td>0.227941</td>\n",
              "      <td>2.163700</td>\n",
              "      <td>-1.135679</td>\n",
              "      <td>0.149892</td>\n",
              "      <td>1.223956</td>\n",
              "      <td>-0.549677</td>\n",
              "      <td>-0.679656</td>\n",
              "      <td>0.166663</td>\n",
              "    </tr>\n",
              "  </tbody>\n",
              "</table>\n",
              "</div>\n",
              "      <button class=\"colab-df-convert\" onclick=\"convertToInteractive('df-c029f1f7-60b9-4934-aa42-f5bdc53e3e94')\"\n",
              "              title=\"Convert this dataframe to an interactive table.\"\n",
              "              style=\"display:none;\">\n",
              "        \n",
              "  <svg xmlns=\"http://www.w3.org/2000/svg\" height=\"24px\"viewBox=\"0 0 24 24\"\n",
              "       width=\"24px\">\n",
              "    <path d=\"M0 0h24v24H0V0z\" fill=\"none\"/>\n",
              "    <path d=\"M18.56 5.44l.94 2.06.94-2.06 2.06-.94-2.06-.94-.94-2.06-.94 2.06-2.06.94zm-11 1L8.5 8.5l.94-2.06 2.06-.94-2.06-.94L8.5 2.5l-.94 2.06-2.06.94zm10 10l.94 2.06.94-2.06 2.06-.94-2.06-.94-.94-2.06-.94 2.06-2.06.94z\"/><path d=\"M17.41 7.96l-1.37-1.37c-.4-.4-.92-.59-1.43-.59-.52 0-1.04.2-1.43.59L10.3 9.45l-7.72 7.72c-.78.78-.78 2.05 0 2.83L4 21.41c.39.39.9.59 1.41.59.51 0 1.02-.2 1.41-.59l7.78-7.78 2.81-2.81c.8-.78.8-2.07 0-2.86zM5.41 20L4 18.59l7.72-7.72 1.47 1.35L5.41 20z\"/>\n",
              "  </svg>\n",
              "      </button>\n",
              "      \n",
              "  <style>\n",
              "    .colab-df-container {\n",
              "      display:flex;\n",
              "      flex-wrap:wrap;\n",
              "      gap: 12px;\n",
              "    }\n",
              "\n",
              "    .colab-df-convert {\n",
              "      background-color: #E8F0FE;\n",
              "      border: none;\n",
              "      border-radius: 50%;\n",
              "      cursor: pointer;\n",
              "      display: none;\n",
              "      fill: #1967D2;\n",
              "      height: 32px;\n",
              "      padding: 0 0 0 0;\n",
              "      width: 32px;\n",
              "    }\n",
              "\n",
              "    .colab-df-convert:hover {\n",
              "      background-color: #E2EBFA;\n",
              "      box-shadow: 0px 1px 2px rgba(60, 64, 67, 0.3), 0px 1px 3px 1px rgba(60, 64, 67, 0.15);\n",
              "      fill: #174EA6;\n",
              "    }\n",
              "\n",
              "    [theme=dark] .colab-df-convert {\n",
              "      background-color: #3B4455;\n",
              "      fill: #D2E3FC;\n",
              "    }\n",
              "\n",
              "    [theme=dark] .colab-df-convert:hover {\n",
              "      background-color: #434B5C;\n",
              "      box-shadow: 0px 1px 3px 1px rgba(0, 0, 0, 0.15);\n",
              "      filter: drop-shadow(0px 1px 2px rgba(0, 0, 0, 0.3));\n",
              "      fill: #FFFFFF;\n",
              "    }\n",
              "  </style>\n",
              "\n",
              "      <script>\n",
              "        const buttonEl =\n",
              "          document.querySelector('#df-c029f1f7-60b9-4934-aa42-f5bdc53e3e94 button.colab-df-convert');\n",
              "        buttonEl.style.display =\n",
              "          google.colab.kernel.accessAllowed ? 'block' : 'none';\n",
              "\n",
              "        async function convertToInteractive(key) {\n",
              "          const element = document.querySelector('#df-c029f1f7-60b9-4934-aa42-f5bdc53e3e94');\n",
              "          const dataTable =\n",
              "            await google.colab.kernel.invokeFunction('convertToInteractive',\n",
              "                                                     [key], {});\n",
              "          if (!dataTable) return;\n",
              "\n",
              "          const docLinkHtml = 'Like what you see? Visit the ' +\n",
              "            '<a target=\"_blank\" href=https://colab.research.google.com/notebooks/data_table.ipynb>data table notebook</a>'\n",
              "            + ' to learn more about interactive tables.';\n",
              "          element.innerHTML = '';\n",
              "          dataTable['output_type'] = 'display_data';\n",
              "          await google.colab.output.renderOutput(dataTable, element);\n",
              "          const docLink = document.createElement('div');\n",
              "          docLink.innerHTML = docLinkHtml;\n",
              "          element.appendChild(docLink);\n",
              "        }\n",
              "      </script>\n",
              "    </div>\n",
              "  </div>\n",
              "  "
            ]
          },
          "metadata": {},
          "execution_count": 4
        }
      ]
    },
    {
      "cell_type": "markdown",
      "source": [
        "## Time to write\n",
        "\n",
        "Let us now check the writing time of the above dataframe we created. We will first create a decorator for calculating time and then write a function to save the dataframe into different file formats."
      ],
      "metadata": {
        "id": "rPkE4jkEst7x"
      }
    },
    {
      "cell_type": "code",
      "source": [
        "%time df.to_csv('test.csv')"
      ],
      "metadata": {
        "id": "1Iz7XFyoudXQ",
        "outputId": "b7493080-0b73-4735-fc00-1f591e39d010",
        "colab": {
          "base_uri": "https://localhost:8080/"
        }
      },
      "execution_count": 5,
      "outputs": [
        {
          "output_type": "stream",
          "name": "stdout",
          "text": [
            "CPU times: user 2.72 s, sys: 111 ms, total: 2.83 s\n",
            "Wall time: 3.48 s\n"
          ]
        }
      ]
    },
    {
      "cell_type": "code",
      "source": [
        "%time df.to_hdf('test.h5', key='root')"
      ],
      "metadata": {
        "colab": {
          "base_uri": "https://localhost:8080/"
        },
        "id": "nRxSLmokctIG",
        "outputId": "edcea0b0-f8a7-4e87-a1f1-11901585f55e"
      },
      "execution_count": 6,
      "outputs": [
        {
          "output_type": "stream",
          "name": "stdout",
          "text": [
            "CPU times: user 60.3 ms, sys: 25 ms, total: 85.3 ms\n",
            "Wall time: 273 ms\n"
          ]
        }
      ]
    },
    {
      "cell_type": "code",
      "source": [
        "%time df.to_parquet('test.parquet')"
      ],
      "metadata": {
        "colab": {
          "base_uri": "https://localhost:8080/"
        },
        "id": "DFRHG-Cac4Fp",
        "outputId": "4b49abfc-b3be-4d92-e0e1-d475993ae01b"
      },
      "execution_count": 7,
      "outputs": [
        {
          "output_type": "stream",
          "name": "stdout",
          "text": [
            "CPU times: user 184 ms, sys: 37.3 ms, total: 221 ms\n",
            "Wall time: 421 ms\n"
          ]
        }
      ]
    },
    {
      "cell_type": "code",
      "source": [
        "%time df.to_feather('test.feather')"
      ],
      "metadata": {
        "colab": {
          "base_uri": "https://localhost:8080/"
        },
        "id": "XnU1Sp8ndHNI",
        "outputId": "e23d6f9e-2aec-4ae0-e0a6-7a799fae2e8f"
      },
      "execution_count": 8,
      "outputs": [
        {
          "output_type": "stream",
          "name": "stdout",
          "text": [
            "CPU times: user 29.6 ms, sys: 19.1 ms, total: 48.8 ms\n",
            "Wall time: 59.3 ms\n"
          ]
        }
      ]
    },
    {
      "cell_type": "markdown",
      "source": [
        "From above we can see that **feather** & **parquet** are the file formats which works pretty well for writing to disk. Now let us consider the second parameter.\n",
        "\n",
        "##File size on Disk\n",
        "Let us now check the file size on disk."
      ],
      "metadata": {
        "id": "uUtar4J_dP3v"
      }
    },
    {
      "cell_type": "code",
      "source": [
        "%%bash\n",
        "du -sh test.*"
      ],
      "metadata": {
        "colab": {
          "base_uri": "https://localhost:8080/"
        },
        "id": "3CBJ1VPHdzaz",
        "outputId": "73598607-4419-42f2-d8b4-8be35a76f5ca"
      },
      "execution_count": 9,
      "outputs": [
        {
          "output_type": "stream",
          "name": "stdout",
          "text": [
            "20M\ttest.csv\n",
            "7.7M\ttest.feather\n",
            "8.5M\ttest.h5\n",
            "9.7M\ttest.parquet\n"
          ]
        }
      ]
    },
    {
      "cell_type": "markdown",
      "source": [
        "From the above result we can see that **feather** and **hdf** outperforms others. But we will check the performance again with some gigabyte of data afterward.\n",
        "\n",
        "## Time to read\n",
        "Let us check how much time does it take for a read operation."
      ],
      "metadata": {
        "id": "IH90ZALweQEA"
      }
    },
    {
      "cell_type": "code",
      "source": [
        "%%time \n",
        "df=pd.read_csv('test.csv')"
      ],
      "metadata": {
        "colab": {
          "base_uri": "https://localhost:8080/"
        },
        "id": "jKZ2CLMAetEP",
        "outputId": "541090ae-0862-41d4-d77a-b583cfb85151"
      },
      "execution_count": 10,
      "outputs": [
        {
          "output_type": "stream",
          "name": "stdout",
          "text": [
            "CPU times: user 219 ms, sys: 52 ms, total: 271 ms\n",
            "Wall time: 273 ms\n"
          ]
        }
      ]
    },
    {
      "cell_type": "code",
      "source": [
        "%%time\n",
        "df=pd.read_hdf('test.h5')"
      ],
      "metadata": {
        "colab": {
          "base_uri": "https://localhost:8080/"
        },
        "id": "KnHr0FaHfJbD",
        "outputId": "87b24b7c-2d6e-4ef9-9de0-e93545f21226"
      },
      "execution_count": 11,
      "outputs": [
        {
          "output_type": "stream",
          "name": "stdout",
          "text": [
            "CPU times: user 17.7 ms, sys: 7.06 ms, total: 24.8 ms\n",
            "Wall time: 28.5 ms\n"
          ]
        }
      ]
    },
    {
      "cell_type": "code",
      "source": [
        "%%time\n",
        "df=pd.read_parquet('test.parquet')"
      ],
      "metadata": {
        "colab": {
          "base_uri": "https://localhost:8080/"
        },
        "id": "IoIcukvlfUdh",
        "outputId": "d08bec90-cebb-4200-9c05-7ee85193ee46"
      },
      "execution_count": 12,
      "outputs": [
        {
          "output_type": "stream",
          "name": "stdout",
          "text": [
            "CPU times: user 27.2 ms, sys: 26.3 ms, total: 53.5 ms\n",
            "Wall time: 87.7 ms\n"
          ]
        }
      ]
    },
    {
      "cell_type": "code",
      "source": [
        "%%time\n",
        "df=pd.read_feather('test.feather')"
      ],
      "metadata": {
        "colab": {
          "base_uri": "https://localhost:8080/"
        },
        "id": "L3ownw65fZsC",
        "outputId": "1be9d9b9-cee7-4574-c5e7-0a14dd405bec"
      },
      "execution_count": 13,
      "outputs": [
        {
          "output_type": "stream",
          "name": "stdout",
          "text": [
            "CPU times: user 12.9 ms, sys: 8.23 ms, total: 21.1 ms\n",
            "Wall time: 16.7 ms\n"
          ]
        }
      ]
    },
    {
      "cell_type": "markdown",
      "source": [
        "In the above result we see that **hdf** and **feather** outperforms.\n",
        "\n",
        "## Testing with categorical data.\n",
        "Now let us create data with both the categorical and numerical values and check the performances of different file formats."
      ],
      "metadata": {
        "id": "GQ7qXsuifhn_"
      }
    },
    {
      "cell_type": "code",
      "source": [
        "!pip install lorem"
      ],
      "metadata": {
        "id": "VkD23bbVg1rw",
        "outputId": "46e68176-a527-4be4-f8a8-60addfe931e8",
        "colab": {
          "base_uri": "https://localhost:8080/"
        }
      },
      "execution_count": 2,
      "outputs": [
        {
          "output_type": "stream",
          "name": "stdout",
          "text": [
            "Looking in indexes: https://pypi.org/simple, https://us-python.pkg.dev/colab-wheels/public/simple/\n",
            "Requirement already satisfied: lorem in /usr/local/lib/python3.7/dist-packages (0.1.1)\n"
          ]
        }
      ]
    },
    {
      "cell_type": "markdown",
      "source": [
        "###Prepare Data"
      ],
      "metadata": {
        "id": "gzCGLidZjyFQ"
      }
    },
    {
      "cell_type": "code",
      "source": [
        "from lorem import sentence\n",
        "\n",
        "words = np.array(sentence().strip().lower().replace(\".\", \" \").split())\n",
        "\n",
        "np.random.seed(0)  \n",
        "n = 1000000\n",
        "df = pd.DataFrame(np.c_[np.random.randn(n, 5),\n",
        "                  np.random.randint(0,10,(n, 2)),\n",
        "                  np.random.randint(0,1,(n, 2)),\n",
        "np.array([np.random.choice(words) for i in range(n)])] , \n",
        "columns=list('ABCDEFGHIJ'))\n",
        "\n",
        "df[\"A\"][::10] = np.nan\n",
        "len(df)"
      ],
      "metadata": {
        "id": "NrBYk7PdgYxK",
        "outputId": "d2f54d7b-6d93-4626-98c0-8e36cc2b4695",
        "colab": {
          "base_uri": "https://localhost:8080/"
        }
      },
      "execution_count": 14,
      "outputs": [
        {
          "output_type": "execute_result",
          "data": {
            "text/plain": [
              "1000000"
            ]
          },
          "metadata": {},
          "execution_count": 14
        }
      ]
    },
    {
      "cell_type": "markdown",
      "source": [
        "### Time to write"
      ],
      "metadata": {
        "id": "HgM5-O4bj1mi"
      }
    },
    {
      "cell_type": "code",
      "source": [
        "%time df.to_csv('test_big.csv')"
      ],
      "metadata": {
        "id": "P3-sl79VhEd1",
        "outputId": "d68eb075-99f7-4b8a-a95d-2eec97b24d5f",
        "colab": {
          "base_uri": "https://localhost:8080/"
        }
      },
      "execution_count": 25,
      "outputs": [
        {
          "output_type": "stream",
          "name": "stdout",
          "text": [
            "CPU times: user 4.89 s, sys: 1.02 s, total: 5.91 s\n",
            "Wall time: 5.98 s\n"
          ]
        }
      ]
    },
    {
      "cell_type": "code",
      "source": [
        "%time df.to_hdf('test_big.h5', key='root')"
      ],
      "metadata": {
        "id": "GRrmh2jkjUw1",
        "outputId": "435781b5-df42-44d1-e8a2-4bb4f3026ac0",
        "colab": {
          "base_uri": "https://localhost:8080/"
        }
      },
      "execution_count": 26,
      "outputs": [
        {
          "output_type": "stream",
          "name": "stderr",
          "text": [
            "/usr/local/lib/python3.7/dist-packages/pandas/core/generic.py:2718: PerformanceWarning: \n",
            "your performance may suffer as PyTables will pickle object types that it cannot\n",
            "map directly to c-types [inferred_type->mixed,key->block0_values] [items->Index(['A', 'B', 'C', 'D', 'E', 'F', 'G', 'H', 'I', 'J'], dtype='object')]\n",
            "\n",
            "  encoding=encoding,\n"
          ]
        },
        {
          "output_type": "stream",
          "name": "stdout",
          "text": [
            "CPU times: user 3.13 s, sys: 546 ms, total: 3.67 s\n",
            "Wall time: 3.65 s\n"
          ]
        }
      ]
    },
    {
      "cell_type": "code",
      "source": [
        "%time df.to_parquet('test_big.parquet')"
      ],
      "metadata": {
        "id": "Z-vCOXP4jgXE",
        "outputId": "ae4b59d8-e5e6-41e3-fd0c-5afbe2c4eefe",
        "colab": {
          "base_uri": "https://localhost:8080/"
        }
      },
      "execution_count": 27,
      "outputs": [
        {
          "output_type": "stream",
          "name": "stdout",
          "text": [
            "CPU times: user 1.62 s, sys: 386 ms, total: 2.01 s\n",
            "Wall time: 2.03 s\n"
          ]
        }
      ]
    },
    {
      "cell_type": "code",
      "source": [
        "%time df.to_feather('test_big.feather')"
      ],
      "metadata": {
        "id": "_fta9qUMjpHK",
        "outputId": "cbd7945c-51b8-4816-dc4d-403aba5c36aa",
        "colab": {
          "base_uri": "https://localhost:8080/"
        }
      },
      "execution_count": 28,
      "outputs": [
        {
          "output_type": "stream",
          "name": "stdout",
          "text": [
            "CPU times: user 1.21 s, sys: 283 ms, total: 1.5 s\n",
            "Wall time: 1.29 s\n"
          ]
        }
      ]
    },
    {
      "cell_type": "markdown",
      "source": [
        "### File size on disk"
      ],
      "metadata": {
        "id": "q_6fAC0Bj7JN"
      }
    },
    {
      "cell_type": "code",
      "source": [
        "%%bash\n",
        "du -sh test_big.*"
      ],
      "metadata": {
        "id": "mW4OhVMsjvuj",
        "outputId": "1878faea-22a8-42ce-b622-947fd24f3642",
        "colab": {
          "base_uri": "https://localhost:8080/"
        }
      },
      "execution_count": 29,
      "outputs": [
        {
          "output_type": "stream",
          "name": "stdout",
          "text": [
            "112M\ttest_big.csv\n",
            "122M\ttest_big.feather\n",
            "251M\ttest_big.h5\n",
            "80M\ttest_big.parquet\n"
          ]
        }
      ]
    },
    {
      "cell_type": "markdown",
      "source": [
        "### Time to read"
      ],
      "metadata": {
        "id": "Z9__uJEukjAx"
      }
    },
    {
      "cell_type": "code",
      "source": [
        "%%time \n",
        "df=pd.read_csv('test_big.csv')"
      ],
      "metadata": {
        "id": "zEXxFX8jkCX1",
        "outputId": "16e1d9c8-9f60-469d-cca1-684438a70d4c",
        "colab": {
          "base_uri": "https://localhost:8080/"
        }
      },
      "execution_count": 31,
      "outputs": [
        {
          "output_type": "stream",
          "name": "stdout",
          "text": [
            "CPU times: user 1.38 s, sys: 133 ms, total: 1.51 s\n",
            "Wall time: 1.52 s\n"
          ]
        }
      ]
    },
    {
      "cell_type": "code",
      "source": [
        "%%time\n",
        "df=pd.read_hdf('test_big.h5', key='root')"
      ],
      "metadata": {
        "id": "iijyDHY-ktn9",
        "outputId": "dbbfe3e6-f7e8-41ce-e26a-cf8a34fa9658",
        "colab": {
          "base_uri": "https://localhost:8080/"
        }
      },
      "execution_count": 33,
      "outputs": [
        {
          "output_type": "stream",
          "name": "stdout",
          "text": [
            "CPU times: user 2.04 s, sys: 308 ms, total: 2.35 s\n",
            "Wall time: 2.88 s\n"
          ]
        }
      ]
    },
    {
      "cell_type": "code",
      "source": [
        "%%time\n",
        "df=pd.read_parquet('test_big.parquet')"
      ],
      "metadata": {
        "id": "-1ts1znJk_XP",
        "outputId": "4a035aa4-1365-460f-ec34-f6e6c6f125b2",
        "colab": {
          "base_uri": "https://localhost:8080/"
        }
      },
      "execution_count": 34,
      "outputs": [
        {
          "output_type": "stream",
          "name": "stdout",
          "text": [
            "CPU times: user 2.01 s, sys: 584 ms, total: 2.59 s\n",
            "Wall time: 2.32 s\n"
          ]
        }
      ]
    },
    {
      "cell_type": "code",
      "source": [
        "%%time\n",
        "df=pd.read_feather('test_big.feather')"
      ],
      "metadata": {
        "id": "KqrcH_melJmw",
        "outputId": "82e041a5-842e-4d5e-c28f-512a0afd2713",
        "colab": {
          "base_uri": "https://localhost:8080/"
        }
      },
      "execution_count": 35,
      "outputs": [
        {
          "output_type": "stream",
          "name": "stdout",
          "text": [
            "CPU times: user 1.51 s, sys: 289 ms, total: 1.8 s\n",
            "Wall time: 1.73 s\n"
          ]
        }
      ]
    },
    {
      "cell_type": "markdown",
      "source": [
        "We can see in the above cells that when we use raw categorical fields the size of the file gets large in case of feather and hdf. Now let us use the pd.Categorical function and modify the data and check what happens."
      ],
      "metadata": {
        "id": "ZkkWZG_NlcXt"
      }
    },
    {
      "cell_type": "code",
      "source": [
        "df['J'] = pd.Categorical(df['J'])"
      ],
      "metadata": {
        "id": "H6mKI4K6lPY7"
      },
      "execution_count": 36,
      "outputs": []
    },
    {
      "cell_type": "markdown",
      "source": [
        "### Time to write"
      ],
      "metadata": {
        "id": "lrW1nWFDl8Aq"
      }
    },
    {
      "cell_type": "code",
      "source": [
        "%time df.to_csv('test_big_pd_cat.csv')"
      ],
      "metadata": {
        "id": "NmTTty61qTn6",
        "outputId": "0c5e7118-2f4e-490e-922f-e0d1819cad9d",
        "colab": {
          "base_uri": "https://localhost:8080/"
        }
      },
      "execution_count": 37,
      "outputs": [
        {
          "output_type": "stream",
          "name": "stdout",
          "text": [
            "CPU times: user 5.68 s, sys: 373 ms, total: 6.05 s\n",
            "Wall time: 6.76 s\n"
          ]
        }
      ]
    },
    {
      "cell_type": "code",
      "source": [
        "%time df.to_hdf('test_big_pd_cat.h5', key='root', format='table')"
      ],
      "metadata": {
        "id": "vyJ_aN6pl15B",
        "outputId": "34ea5c6f-06ba-4c1c-ab99-c1587a9f5cb3",
        "colab": {
          "base_uri": "https://localhost:8080/"
        }
      },
      "execution_count": 39,
      "outputs": [
        {
          "output_type": "stream",
          "name": "stdout",
          "text": [
            "CPU times: user 8.03 s, sys: 723 ms, total: 8.76 s\n",
            "Wall time: 8.89 s\n"
          ]
        }
      ]
    },
    {
      "cell_type": "code",
      "source": [
        "%time df.to_parquet('test_big_pd_cat.parquet')"
      ],
      "metadata": {
        "id": "Vma2CNVKqwQo",
        "outputId": "d38cb074-c56f-44b4-e580-be7a79db0752",
        "colab": {
          "base_uri": "https://localhost:8080/"
        }
      },
      "execution_count": 40,
      "outputs": [
        {
          "output_type": "stream",
          "name": "stdout",
          "text": [
            "CPU times: user 1.5 s, sys: 458 ms, total: 1.96 s\n",
            "Wall time: 2 s\n"
          ]
        }
      ]
    },
    {
      "cell_type": "code",
      "source": [
        "%time df.to_feather('test_big_pd_cat.feather')"
      ],
      "metadata": {
        "id": "RRojwlU2rI4Q",
        "outputId": "8ead5e1b-60d1-4545-a610-e9c1319dcd21",
        "colab": {
          "base_uri": "https://localhost:8080/"
        }
      },
      "execution_count": 41,
      "outputs": [
        {
          "output_type": "stream",
          "name": "stdout",
          "text": [
            "CPU times: user 1.07 s, sys: 501 ms, total: 1.57 s\n",
            "Wall time: 1.36 s\n"
          ]
        }
      ]
    },
    {
      "cell_type": "markdown",
      "source": [
        "### File size on disk"
      ],
      "metadata": {
        "id": "ILTWFCEorXw9"
      }
    },
    {
      "cell_type": "code",
      "source": [
        "%%bash\n",
        "du -sh test_big_pd_cat.*"
      ],
      "metadata": {
        "id": "Ee8iYOJHrOiC",
        "outputId": "6cfe3679-d4cc-4d37-d096-e350182cbeac",
        "colab": {
          "base_uri": "https://localhost:8080/"
        }
      },
      "execution_count": 42,
      "outputs": [
        {
          "output_type": "stream",
          "name": "stdout",
          "text": [
            "112M\ttest_big_pd_cat.csv\n",
            "117M\ttest_big_pd_cat.feather\n",
            "316M\ttest_big_pd_cat.h5\n",
            "80M\ttest_big_pd_cat.parquet\n"
          ]
        }
      ]
    },
    {
      "cell_type": "markdown",
      "source": [
        "### Time to read"
      ],
      "metadata": {
        "id": "DxjMRro_reoc"
      }
    },
    {
      "cell_type": "code",
      "source": [
        "%%time\n",
        "df = pd.read_csv('test_big_pd_cat.csv')"
      ],
      "metadata": {
        "id": "XaKCawgqreSj",
        "outputId": "adaaa4f8-fbaf-437d-8acf-8183fec52f66",
        "colab": {
          "base_uri": "https://localhost:8080/"
        }
      },
      "execution_count": 43,
      "outputs": [
        {
          "output_type": "stream",
          "name": "stdout",
          "text": [
            "CPU times: user 1.58 s, sys: 192 ms, total: 1.78 s\n",
            "Wall time: 1.83 s\n"
          ]
        }
      ]
    },
    {
      "cell_type": "code",
      "source": [
        "%%time\n",
        "df = pd.read_hdf('test_big_pd_cat.h5')"
      ],
      "metadata": {
        "id": "KdhKoHgErUwq",
        "outputId": "18733198-2be7-43e1-c9b1-447c6f2142a6",
        "colab": {
          "base_uri": "https://localhost:8080/"
        }
      },
      "execution_count": 44,
      "outputs": [
        {
          "output_type": "stream",
          "name": "stdout",
          "text": [
            "CPU times: user 6.8 s, sys: 1.42 s, total: 8.22 s\n",
            "Wall time: 8.29 s\n"
          ]
        }
      ]
    },
    {
      "cell_type": "code",
      "source": [
        "%%time\n",
        "df = pd.read_parquet('test_big_pd_cat.parquet')"
      ],
      "metadata": {
        "id": "ODTDAtIwrreR",
        "outputId": "e80c0977-d0cc-4c58-b752-d84e1cdbde81",
        "colab": {
          "base_uri": "https://localhost:8080/"
        }
      },
      "execution_count": 45,
      "outputs": [
        {
          "output_type": "stream",
          "name": "stdout",
          "text": [
            "CPU times: user 2.01 s, sys: 719 ms, total: 2.73 s\n",
            "Wall time: 2.54 s\n"
          ]
        }
      ]
    },
    {
      "cell_type": "code",
      "source": [
        "%%time\n",
        "df = pd.read_feather('test_big_pd_cat.feather')"
      ],
      "metadata": {
        "id": "rYicnhboryuR",
        "outputId": "2e61f14d-dd00-4ad8-d339-3745df4dea54",
        "colab": {
          "base_uri": "https://localhost:8080/"
        }
      },
      "execution_count": 46,
      "outputs": [
        {
          "output_type": "stream",
          "name": "stdout",
          "text": [
            "CPU times: user 1.55 s, sys: 519 ms, total: 2.06 s\n",
            "Wall time: 2.04 s\n"
          ]
        }
      ]
    },
    {
      "cell_type": "markdown",
      "source": [
        "## Feather or Parquet\n",
        "1. Parquet format is designed for long-term storage, where Arrow is more intended for short term or ephemeral storage because files volume are larger.\n",
        "\n",
        "2. Parquet is usually more expensive to write than Feather as it features more layers of encoding and compression.\n",
        "\n",
        "3. Feather is unmodified raw columnar Arrow memory. We will probably add simple compression to Feather in the future.\n",
        "\n",
        "4. Due to dictionary encoding, RLE encoding, and data page compression, Parquet files will often be much smaller than Feather files\n",
        "\n",
        "5. Parquet is a standard storage format for analytics that’s supported by Spark. So if you are doing analytics, Parquet is a good option as a reference storage format for query by multiple systems\n",
        "\n",
        "[Source StackOverflow](https://stackoverflow.com/questions/48083405/what-are-the-differences-between-feather-and-parquet)"
      ],
      "metadata": {
        "id": "I0N-Z2ZSr-aJ"
      }
    },
    {
      "cell_type": "markdown",
      "source": [
        "## Bibliograpgy\n",
        "This notebook is inspired from the following link.<br>\n",
        "\n",
        "[File Format - Python tools for big data](https://pnavaro.github.io/big-data/14-FileFormats.html)"
      ],
      "metadata": {
        "id": "4AIPs8_GsWUQ"
      }
    }
  ]
}