{
  "nbformat": 4,
  "nbformat_minor": 0,
  "metadata": {
    "colab": {
      "provenance": [],
      "authorship_tag": "ABX9TyMn5LXvRJPXQfZWEn1QXc/F",
      "include_colab_link": true
    },
    "kernelspec": {
      "name": "python3",
      "display_name": "Python 3"
    },
    "language_info": {
      "name": "python"
    }
  },
  "cells": [
    {
      "cell_type": "markdown",
      "metadata": {
        "id": "view-in-github",
        "colab_type": "text"
      },
      "source": [
        "<a href=\"https://colab.research.google.com/github/satyakisen/pandas-ff-comparison/blob/main/Pandas_File_Format_Comparison.ipynb\" target=\"_parent\"><img src=\"https://colab.research.google.com/assets/colab-badge.svg\" alt=\"Open In Colab\"/></a>"
      ]
    },
    {
      "cell_type": "markdown",
      "source": [
        "# Pandas File Format Comparision\n",
        "## Overview\n",
        "In this notebook let us compare the following pandas file formats.\n",
        "1. csv - common text file that is comma seperated.\n",
        "2. hdf5 - an open source file format that supports large, complex, heterogeneous data\n",
        "3. parquet - an open source, column-oriented data file format designed for efficient data storage and retrieval.\n",
        "4. feather - a portable file format for storing Arrow tables or data frames (from languages like Python or R) that utilizes the Arrow IPC format internally\n",
        "\n",
        "Comparision parameters to consider are:\n",
        "1. Time to write.\n",
        "2. Time to read.\n",
        "3. File size on disk.\n",
        "\n",
        "## Let us begin\n",
        "Let us begin by creating a dummy dataset containing only random float."
      ],
      "metadata": {
        "id": "97FNsEkHjZaj"
      }
    },
    {
      "cell_type": "code",
      "execution_count": 1,
      "metadata": {
        "id": "Cz0sTNA1jHuL"
      },
      "outputs": [],
      "source": [
        "import pandas as pd\n",
        "import numpy as np\n",
        "\n",
        "def make_data(row_n, col_n):\n",
        "  arr = np.random.randn(row_n, col_n)\n",
        "  df = pd.DataFrame(arr, columns=['col_{0}'.format(i) for i in range(col_n)])\n",
        "  return df\n",
        "\n",
        "df = make_data(100000, 10)"
      ]
    },
    {
      "cell_type": "markdown",
      "source": [
        "Let us check the dummy dataset we made."
      ],
      "metadata": {
        "id": "Hw9cgrxjquTr"
      }
    },
    {
      "cell_type": "code",
      "source": [
        "df.head(5)"
      ],
      "metadata": {
        "id": "ovnaAuM2smjW",
        "outputId": "78df2944-5e33-4db5-b8d2-c18c6758e3b2",
        "colab": {
          "base_uri": "https://localhost:8080/",
          "height": 206
        }
      },
      "execution_count": 2,
      "outputs": [
        {
          "output_type": "execute_result",
          "data": {
            "text/plain": [
              "      col_0     col_1     col_2     col_3     col_4     col_5     col_6  \\\n",
              "0  1.110389  0.142438  0.118264  0.742217 -0.924708  0.936969 -0.584670   \n",
              "1  2.802703  0.742789 -1.059473 -0.587136  0.291661  0.460604  0.041531   \n",
              "2 -1.703729 -0.783873 -0.381655 -0.581264  0.137553 -0.868481  1.553746   \n",
              "3  0.509564 -0.422051 -0.591012 -0.948524 -0.431694 -0.122610  0.007332   \n",
              "4  0.294259  0.910114  0.306357  0.708615  0.972699 -1.420854 -0.373757   \n",
              "\n",
              "      col_7     col_8     col_9  \n",
              "0  0.370694 -0.238375  0.075002  \n",
              "1  0.971437  0.732850  0.951265  \n",
              "2 -1.794220 -0.703021  1.270317  \n",
              "3 -1.657510 -0.842759  0.516597  \n",
              "4  1.166513  0.203477 -0.910188  "
            ],
            "text/html": [
              "\n",
              "  <div id=\"df-fa341ab7-d0a3-4955-b011-b2dc39a9bfa3\">\n",
              "    <div class=\"colab-df-container\">\n",
              "      <div>\n",
              "<style scoped>\n",
              "    .dataframe tbody tr th:only-of-type {\n",
              "        vertical-align: middle;\n",
              "    }\n",
              "\n",
              "    .dataframe tbody tr th {\n",
              "        vertical-align: top;\n",
              "    }\n",
              "\n",
              "    .dataframe thead th {\n",
              "        text-align: right;\n",
              "    }\n",
              "</style>\n",
              "<table border=\"1\" class=\"dataframe\">\n",
              "  <thead>\n",
              "    <tr style=\"text-align: right;\">\n",
              "      <th></th>\n",
              "      <th>col_0</th>\n",
              "      <th>col_1</th>\n",
              "      <th>col_2</th>\n",
              "      <th>col_3</th>\n",
              "      <th>col_4</th>\n",
              "      <th>col_5</th>\n",
              "      <th>col_6</th>\n",
              "      <th>col_7</th>\n",
              "      <th>col_8</th>\n",
              "      <th>col_9</th>\n",
              "    </tr>\n",
              "  </thead>\n",
              "  <tbody>\n",
              "    <tr>\n",
              "      <th>0</th>\n",
              "      <td>1.110389</td>\n",
              "      <td>0.142438</td>\n",
              "      <td>0.118264</td>\n",
              "      <td>0.742217</td>\n",
              "      <td>-0.924708</td>\n",
              "      <td>0.936969</td>\n",
              "      <td>-0.584670</td>\n",
              "      <td>0.370694</td>\n",
              "      <td>-0.238375</td>\n",
              "      <td>0.075002</td>\n",
              "    </tr>\n",
              "    <tr>\n",
              "      <th>1</th>\n",
              "      <td>2.802703</td>\n",
              "      <td>0.742789</td>\n",
              "      <td>-1.059473</td>\n",
              "      <td>-0.587136</td>\n",
              "      <td>0.291661</td>\n",
              "      <td>0.460604</td>\n",
              "      <td>0.041531</td>\n",
              "      <td>0.971437</td>\n",
              "      <td>0.732850</td>\n",
              "      <td>0.951265</td>\n",
              "    </tr>\n",
              "    <tr>\n",
              "      <th>2</th>\n",
              "      <td>-1.703729</td>\n",
              "      <td>-0.783873</td>\n",
              "      <td>-0.381655</td>\n",
              "      <td>-0.581264</td>\n",
              "      <td>0.137553</td>\n",
              "      <td>-0.868481</td>\n",
              "      <td>1.553746</td>\n",
              "      <td>-1.794220</td>\n",
              "      <td>-0.703021</td>\n",
              "      <td>1.270317</td>\n",
              "    </tr>\n",
              "    <tr>\n",
              "      <th>3</th>\n",
              "      <td>0.509564</td>\n",
              "      <td>-0.422051</td>\n",
              "      <td>-0.591012</td>\n",
              "      <td>-0.948524</td>\n",
              "      <td>-0.431694</td>\n",
              "      <td>-0.122610</td>\n",
              "      <td>0.007332</td>\n",
              "      <td>-1.657510</td>\n",
              "      <td>-0.842759</td>\n",
              "      <td>0.516597</td>\n",
              "    </tr>\n",
              "    <tr>\n",
              "      <th>4</th>\n",
              "      <td>0.294259</td>\n",
              "      <td>0.910114</td>\n",
              "      <td>0.306357</td>\n",
              "      <td>0.708615</td>\n",
              "      <td>0.972699</td>\n",
              "      <td>-1.420854</td>\n",
              "      <td>-0.373757</td>\n",
              "      <td>1.166513</td>\n",
              "      <td>0.203477</td>\n",
              "      <td>-0.910188</td>\n",
              "    </tr>\n",
              "  </tbody>\n",
              "</table>\n",
              "</div>\n",
              "      <button class=\"colab-df-convert\" onclick=\"convertToInteractive('df-fa341ab7-d0a3-4955-b011-b2dc39a9bfa3')\"\n",
              "              title=\"Convert this dataframe to an interactive table.\"\n",
              "              style=\"display:none;\">\n",
              "        \n",
              "  <svg xmlns=\"http://www.w3.org/2000/svg\" height=\"24px\"viewBox=\"0 0 24 24\"\n",
              "       width=\"24px\">\n",
              "    <path d=\"M0 0h24v24H0V0z\" fill=\"none\"/>\n",
              "    <path d=\"M18.56 5.44l.94 2.06.94-2.06 2.06-.94-2.06-.94-.94-2.06-.94 2.06-2.06.94zm-11 1L8.5 8.5l.94-2.06 2.06-.94-2.06-.94L8.5 2.5l-.94 2.06-2.06.94zm10 10l.94 2.06.94-2.06 2.06-.94-2.06-.94-.94-2.06-.94 2.06-2.06.94z\"/><path d=\"M17.41 7.96l-1.37-1.37c-.4-.4-.92-.59-1.43-.59-.52 0-1.04.2-1.43.59L10.3 9.45l-7.72 7.72c-.78.78-.78 2.05 0 2.83L4 21.41c.39.39.9.59 1.41.59.51 0 1.02-.2 1.41-.59l7.78-7.78 2.81-2.81c.8-.78.8-2.07 0-2.86zM5.41 20L4 18.59l7.72-7.72 1.47 1.35L5.41 20z\"/>\n",
              "  </svg>\n",
              "      </button>\n",
              "      \n",
              "  <style>\n",
              "    .colab-df-container {\n",
              "      display:flex;\n",
              "      flex-wrap:wrap;\n",
              "      gap: 12px;\n",
              "    }\n",
              "\n",
              "    .colab-df-convert {\n",
              "      background-color: #E8F0FE;\n",
              "      border: none;\n",
              "      border-radius: 50%;\n",
              "      cursor: pointer;\n",
              "      display: none;\n",
              "      fill: #1967D2;\n",
              "      height: 32px;\n",
              "      padding: 0 0 0 0;\n",
              "      width: 32px;\n",
              "    }\n",
              "\n",
              "    .colab-df-convert:hover {\n",
              "      background-color: #E2EBFA;\n",
              "      box-shadow: 0px 1px 2px rgba(60, 64, 67, 0.3), 0px 1px 3px 1px rgba(60, 64, 67, 0.15);\n",
              "      fill: #174EA6;\n",
              "    }\n",
              "\n",
              "    [theme=dark] .colab-df-convert {\n",
              "      background-color: #3B4455;\n",
              "      fill: #D2E3FC;\n",
              "    }\n",
              "\n",
              "    [theme=dark] .colab-df-convert:hover {\n",
              "      background-color: #434B5C;\n",
              "      box-shadow: 0px 1px 3px 1px rgba(0, 0, 0, 0.15);\n",
              "      filter: drop-shadow(0px 1px 2px rgba(0, 0, 0, 0.3));\n",
              "      fill: #FFFFFF;\n",
              "    }\n",
              "  </style>\n",
              "\n",
              "      <script>\n",
              "        const buttonEl =\n",
              "          document.querySelector('#df-fa341ab7-d0a3-4955-b011-b2dc39a9bfa3 button.colab-df-convert');\n",
              "        buttonEl.style.display =\n",
              "          google.colab.kernel.accessAllowed ? 'block' : 'none';\n",
              "\n",
              "        async function convertToInteractive(key) {\n",
              "          const element = document.querySelector('#df-fa341ab7-d0a3-4955-b011-b2dc39a9bfa3');\n",
              "          const dataTable =\n",
              "            await google.colab.kernel.invokeFunction('convertToInteractive',\n",
              "                                                     [key], {});\n",
              "          if (!dataTable) return;\n",
              "\n",
              "          const docLinkHtml = 'Like what you see? Visit the ' +\n",
              "            '<a target=\"_blank\" href=https://colab.research.google.com/notebooks/data_table.ipynb>data table notebook</a>'\n",
              "            + ' to learn more about interactive tables.';\n",
              "          element.innerHTML = '';\n",
              "          dataTable['output_type'] = 'display_data';\n",
              "          await google.colab.output.renderOutput(dataTable, element);\n",
              "          const docLink = document.createElement('div');\n",
              "          docLink.innerHTML = docLinkHtml;\n",
              "          element.appendChild(docLink);\n",
              "        }\n",
              "      </script>\n",
              "    </div>\n",
              "  </div>\n",
              "  "
            ]
          },
          "metadata": {},
          "execution_count": 2
        }
      ]
    },
    {
      "cell_type": "markdown",
      "source": [
        "## Time to write\n",
        "\n",
        "Let us now check the writing time of the above dataframe we created. We will first create a decorator for calculating time and then write a function to save the dataframe into different file formats."
      ],
      "metadata": {
        "id": "rPkE4jkEst7x"
      }
    },
    {
      "cell_type": "code",
      "source": [
        "%time df.to_csv('test.csv')"
      ],
      "metadata": {
        "id": "1Iz7XFyoudXQ",
        "outputId": "cf9598fe-b7b8-45b7-fa11-988558777e89",
        "colab": {
          "base_uri": "https://localhost:8080/"
        }
      },
      "execution_count": 3,
      "outputs": [
        {
          "output_type": "stream",
          "name": "stdout",
          "text": [
            "CPU times: user 1.59 s, sys: 65.8 ms, total: 1.66 s\n",
            "Wall time: 1.66 s\n"
          ]
        }
      ]
    },
    {
      "cell_type": "code",
      "source": [
        "%time df.to_hdf('test.h5', key='root')"
      ],
      "metadata": {
        "id": "nRxSLmokctIG",
        "outputId": "02530a4a-09bb-4d18-accc-dbaee7546f48",
        "colab": {
          "base_uri": "https://localhost:8080/"
        }
      },
      "execution_count": 5,
      "outputs": [
        {
          "output_type": "stream",
          "name": "stdout",
          "text": [
            "CPU times: user 141 ms, sys: 21.2 ms, total: 162 ms\n",
            "Wall time: 332 ms\n"
          ]
        }
      ]
    },
    {
      "cell_type": "code",
      "source": [
        "%time df.to_parquet('test.parquet')"
      ],
      "metadata": {
        "id": "DFRHG-Cac4Fp",
        "outputId": "6dcdb221-06a0-4f08-d683-706a47dacfcb",
        "colab": {
          "base_uri": "https://localhost:8080/"
        }
      },
      "execution_count": 6,
      "outputs": [
        {
          "output_type": "stream",
          "name": "stdout",
          "text": [
            "CPU times: user 129 ms, sys: 22.3 ms, total: 151 ms\n",
            "Wall time: 165 ms\n"
          ]
        }
      ]
    },
    {
      "cell_type": "code",
      "source": [
        "%time df.to_feather('test.feather')"
      ],
      "metadata": {
        "id": "XnU1Sp8ndHNI",
        "outputId": "b29378ac-bea2-4a7b-b4a7-633fd4616b53",
        "colab": {
          "base_uri": "https://localhost:8080/"
        }
      },
      "execution_count": 7,
      "outputs": [
        {
          "output_type": "stream",
          "name": "stdout",
          "text": [
            "CPU times: user 40.9 ms, sys: 27.6 ms, total: 68.5 ms\n",
            "Wall time: 54.7 ms\n"
          ]
        }
      ]
    },
    {
      "cell_type": "markdown",
      "source": [
        "From above we can see that **feather** & **parquet** are the file formats which works pretty well for writing to disk. Now let us consider the second parameter.\n",
        "\n",
        "##File size on Disk\n",
        "Let us now check the file size on disk."
      ],
      "metadata": {
        "id": "uUtar4J_dP3v"
      }
    },
    {
      "cell_type": "code",
      "source": [
        "%%bash\n",
        "du -sh test.*"
      ],
      "metadata": {
        "id": "3CBJ1VPHdzaz",
        "outputId": "7cb91b7b-ec2e-478d-e1a4-9c327937d0e9",
        "colab": {
          "base_uri": "https://localhost:8080/"
        }
      },
      "execution_count": 9,
      "outputs": [
        {
          "output_type": "stream",
          "name": "stdout",
          "text": [
            "20M\ttest.csv\n",
            "7.7M\ttest.feather\n",
            "8.5M\ttest.h5\n",
            "9.7M\ttest.parquet\n"
          ]
        }
      ]
    },
    {
      "cell_type": "markdown",
      "source": [
        "From the above result we can see that **feather** and **hdf** outperforms others. But we will check the performance again with some gigabyte of data afterward.\n",
        "\n",
        "## Time to read\n",
        "Let us check how much time does it take for a read operation."
      ],
      "metadata": {
        "id": "IH90ZALweQEA"
      }
    },
    {
      "cell_type": "code",
      "source": [
        "%%time \n",
        "df=pd.read_csv('test.csv')"
      ],
      "metadata": {
        "id": "jKZ2CLMAetEP",
        "outputId": "a5bc9bec-0001-472e-9d4f-517aac37d82d",
        "colab": {
          "base_uri": "https://localhost:8080/"
        }
      },
      "execution_count": 11,
      "outputs": [
        {
          "output_type": "stream",
          "name": "stdout",
          "text": [
            "CPU times: user 226 ms, sys: 26.2 ms, total: 252 ms\n",
            "Wall time: 255 ms\n"
          ]
        }
      ]
    },
    {
      "cell_type": "code",
      "source": [
        "%%time\n",
        "df=pd.read_hdf('test.h5')"
      ],
      "metadata": {
        "id": "KnHr0FaHfJbD",
        "outputId": "b118ea7a-deff-4581-8b4d-104ce0d6a7f2",
        "colab": {
          "base_uri": "https://localhost:8080/"
        }
      },
      "execution_count": 18,
      "outputs": [
        {
          "output_type": "stream",
          "name": "stdout",
          "text": [
            "CPU times: user 19.5 ms, sys: 3.07 ms, total: 22.6 ms\n",
            "Wall time: 24.4 ms\n"
          ]
        }
      ]
    },
    {
      "cell_type": "code",
      "source": [
        "%%time\n",
        "df=pd.read_parquet('test.parquet')"
      ],
      "metadata": {
        "id": "IoIcukvlfUdh",
        "outputId": "04739545-a8e0-4fca-daa1-20f1d2eaa752",
        "colab": {
          "base_uri": "https://localhost:8080/"
        }
      },
      "execution_count": 17,
      "outputs": [
        {
          "output_type": "stream",
          "name": "stdout",
          "text": [
            "CPU times: user 16.6 ms, sys: 27.4 ms, total: 44 ms\n",
            "Wall time: 30 ms\n"
          ]
        }
      ]
    },
    {
      "cell_type": "code",
      "source": [
        "%%time\n",
        "df=pd.read_feather('test.feather')"
      ],
      "metadata": {
        "id": "L3ownw65fZsC",
        "outputId": "9b6d39d1-4a32-4c9e-855a-bb21ab436e69",
        "colab": {
          "base_uri": "https://localhost:8080/"
        }
      },
      "execution_count": 16,
      "outputs": [
        {
          "output_type": "stream",
          "name": "stdout",
          "text": [
            "CPU times: user 10.1 ms, sys: 20.2 ms, total: 30.3 ms\n",
            "Wall time: 26.7 ms\n"
          ]
        }
      ]
    },
    {
      "cell_type": "markdown",
      "source": [
        "In the above result we see that **hdf** and **feather** outperforms.\n",
        "\n",
        "## Testing with big data.\n",
        "Now let us create datas in few gigabytes with both the categorical and numerical values and check the performances of different file formats."
      ],
      "metadata": {
        "id": "GQ7qXsuifhn_"
      }
    }
  ]
}