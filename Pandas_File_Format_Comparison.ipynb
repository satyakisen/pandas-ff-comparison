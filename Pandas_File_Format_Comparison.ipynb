{
  "nbformat": 4,
  "nbformat_minor": 0,
  "metadata": {
    "colab": {
      "provenance": [],
      "authorship_tag": "ABX9TyO7dcQJGDdVJb9U7X5cioOu",
      "include_colab_link": true
    },
    "kernelspec": {
      "name": "python3",
      "display_name": "Python 3"
    },
    "language_info": {
      "name": "python"
    }
  },
  "cells": [
    {
      "cell_type": "markdown",
      "metadata": {
        "id": "view-in-github",
        "colab_type": "text"
      },
      "source": [
        "<a href=\"https://colab.research.google.com/github/satyakisen/pandas-ff-comparison/blob/main/Pandas_File_Format_Comparison.ipynb\" target=\"_parent\"><img src=\"https://colab.research.google.com/assets/colab-badge.svg\" alt=\"Open In Colab\"/></a>"
      ]
    },
    {
      "cell_type": "markdown",
      "source": [
        "# Pandas File Format Comparision\n",
        "## Overview\n",
        "In this notebook let us compare the following pandas file formats.\n",
        "1. csv - common text file that is comma seperated.\n",
        "2. hdf5 - an open source file format that supports large, complex, heterogeneous data\n",
        "3. parquet - an open source, column-oriented data file format designed for efficient data storage and retrieval.\n",
        "4. feather - a portable file format for storing Arrow tables or data frames (from languages like Python or R) that utilizes the Arrow IPC format internally\n",
        "\n",
        "Comparision parameters to consider are:\n",
        "1. Time to write.\n",
        "2. Time to read.\n",
        "3. File size on disk.\n",
        "4. Memory Usage.\n"
      ],
      "metadata": {
        "id": "97FNsEkHjZaj"
      }
    },
    {
      "cell_type": "markdown",
      "source": [
        "## Testing with Numerical Data\n",
        "Let us begin by creating a dummy dataset containing only random float."
      ],
      "metadata": {
        "id": "7vs4sgxDYiBh"
      }
    },
    {
      "cell_type": "code",
      "execution_count": 1,
      "metadata": {
        "id": "Cz0sTNA1jHuL"
      },
      "outputs": [],
      "source": [
        "import pandas as pd\n",
        "import numpy as np\n",
        "\n",
        "def make_data(row_n, col_n):\n",
        "  arr = np.random.randn(row_n, col_n)\n",
        "  df = pd.DataFrame(arr, columns=['col_{0}'.format(i) for i in range(col_n)])\n",
        "  return df\n",
        "\n",
        "df = make_data(100000, 10)"
      ]
    },
    {
      "cell_type": "markdown",
      "source": [
        "Let us check the dummy dataset we made."
      ],
      "metadata": {
        "id": "Hw9cgrxjquTr"
      }
    },
    {
      "cell_type": "code",
      "source": [
        "df.head(5)"
      ],
      "metadata": {
        "id": "ovnaAuM2smjW",
        "outputId": "1b323527-ec1e-4ec8-8dfc-df59ee0235b8",
        "colab": {
          "base_uri": "https://localhost:8080/",
          "height": 206
        }
      },
      "execution_count": 2,
      "outputs": [
        {
          "output_type": "execute_result",
          "data": {
            "text/plain": [
              "      col_0     col_1     col_2     col_3     col_4     col_5     col_6  \\\n",
              "0 -0.859398 -2.815290  2.215505 -0.675598 -0.150281 -0.058556 -0.635403   \n",
              "1 -0.053918  1.449192  1.021778  0.110526  0.791664  0.081772  0.723827   \n",
              "2  1.100042  0.085175 -0.946380  0.755913 -1.851220  1.182094 -1.570675   \n",
              "3  1.258852  0.276658  0.670038 -0.143589 -0.046932  1.552391 -0.726297   \n",
              "4  0.192960 -1.678459 -1.497318  0.790740 -0.607638 -0.092652 -1.602071   \n",
              "\n",
              "      col_7     col_8     col_9  \n",
              "0 -0.666187  0.549742 -0.492604  \n",
              "1  0.916379 -2.129186  0.018242  \n",
              "2  0.105533 -1.894252  0.543204  \n",
              "3 -0.125764 -0.613987 -1.158940  \n",
              "4 -1.506003 -0.678568 -0.677976  "
            ],
            "text/html": [
              "\n",
              "  <div id=\"df-4c929ddc-34d4-4206-b5c1-3fac5ab4c64f\">\n",
              "    <div class=\"colab-df-container\">\n",
              "      <div>\n",
              "<style scoped>\n",
              "    .dataframe tbody tr th:only-of-type {\n",
              "        vertical-align: middle;\n",
              "    }\n",
              "\n",
              "    .dataframe tbody tr th {\n",
              "        vertical-align: top;\n",
              "    }\n",
              "\n",
              "    .dataframe thead th {\n",
              "        text-align: right;\n",
              "    }\n",
              "</style>\n",
              "<table border=\"1\" class=\"dataframe\">\n",
              "  <thead>\n",
              "    <tr style=\"text-align: right;\">\n",
              "      <th></th>\n",
              "      <th>col_0</th>\n",
              "      <th>col_1</th>\n",
              "      <th>col_2</th>\n",
              "      <th>col_3</th>\n",
              "      <th>col_4</th>\n",
              "      <th>col_5</th>\n",
              "      <th>col_6</th>\n",
              "      <th>col_7</th>\n",
              "      <th>col_8</th>\n",
              "      <th>col_9</th>\n",
              "    </tr>\n",
              "  </thead>\n",
              "  <tbody>\n",
              "    <tr>\n",
              "      <th>0</th>\n",
              "      <td>-0.859398</td>\n",
              "      <td>-2.815290</td>\n",
              "      <td>2.215505</td>\n",
              "      <td>-0.675598</td>\n",
              "      <td>-0.150281</td>\n",
              "      <td>-0.058556</td>\n",
              "      <td>-0.635403</td>\n",
              "      <td>-0.666187</td>\n",
              "      <td>0.549742</td>\n",
              "      <td>-0.492604</td>\n",
              "    </tr>\n",
              "    <tr>\n",
              "      <th>1</th>\n",
              "      <td>-0.053918</td>\n",
              "      <td>1.449192</td>\n",
              "      <td>1.021778</td>\n",
              "      <td>0.110526</td>\n",
              "      <td>0.791664</td>\n",
              "      <td>0.081772</td>\n",
              "      <td>0.723827</td>\n",
              "      <td>0.916379</td>\n",
              "      <td>-2.129186</td>\n",
              "      <td>0.018242</td>\n",
              "    </tr>\n",
              "    <tr>\n",
              "      <th>2</th>\n",
              "      <td>1.100042</td>\n",
              "      <td>0.085175</td>\n",
              "      <td>-0.946380</td>\n",
              "      <td>0.755913</td>\n",
              "      <td>-1.851220</td>\n",
              "      <td>1.182094</td>\n",
              "      <td>-1.570675</td>\n",
              "      <td>0.105533</td>\n",
              "      <td>-1.894252</td>\n",
              "      <td>0.543204</td>\n",
              "    </tr>\n",
              "    <tr>\n",
              "      <th>3</th>\n",
              "      <td>1.258852</td>\n",
              "      <td>0.276658</td>\n",
              "      <td>0.670038</td>\n",
              "      <td>-0.143589</td>\n",
              "      <td>-0.046932</td>\n",
              "      <td>1.552391</td>\n",
              "      <td>-0.726297</td>\n",
              "      <td>-0.125764</td>\n",
              "      <td>-0.613987</td>\n",
              "      <td>-1.158940</td>\n",
              "    </tr>\n",
              "    <tr>\n",
              "      <th>4</th>\n",
              "      <td>0.192960</td>\n",
              "      <td>-1.678459</td>\n",
              "      <td>-1.497318</td>\n",
              "      <td>0.790740</td>\n",
              "      <td>-0.607638</td>\n",
              "      <td>-0.092652</td>\n",
              "      <td>-1.602071</td>\n",
              "      <td>-1.506003</td>\n",
              "      <td>-0.678568</td>\n",
              "      <td>-0.677976</td>\n",
              "    </tr>\n",
              "  </tbody>\n",
              "</table>\n",
              "</div>\n",
              "      <button class=\"colab-df-convert\" onclick=\"convertToInteractive('df-4c929ddc-34d4-4206-b5c1-3fac5ab4c64f')\"\n",
              "              title=\"Convert this dataframe to an interactive table.\"\n",
              "              style=\"display:none;\">\n",
              "        \n",
              "  <svg xmlns=\"http://www.w3.org/2000/svg\" height=\"24px\"viewBox=\"0 0 24 24\"\n",
              "       width=\"24px\">\n",
              "    <path d=\"M0 0h24v24H0V0z\" fill=\"none\"/>\n",
              "    <path d=\"M18.56 5.44l.94 2.06.94-2.06 2.06-.94-2.06-.94-.94-2.06-.94 2.06-2.06.94zm-11 1L8.5 8.5l.94-2.06 2.06-.94-2.06-.94L8.5 2.5l-.94 2.06-2.06.94zm10 10l.94 2.06.94-2.06 2.06-.94-2.06-.94-.94-2.06-.94 2.06-2.06.94z\"/><path d=\"M17.41 7.96l-1.37-1.37c-.4-.4-.92-.59-1.43-.59-.52 0-1.04.2-1.43.59L10.3 9.45l-7.72 7.72c-.78.78-.78 2.05 0 2.83L4 21.41c.39.39.9.59 1.41.59.51 0 1.02-.2 1.41-.59l7.78-7.78 2.81-2.81c.8-.78.8-2.07 0-2.86zM5.41 20L4 18.59l7.72-7.72 1.47 1.35L5.41 20z\"/>\n",
              "  </svg>\n",
              "      </button>\n",
              "      \n",
              "  <style>\n",
              "    .colab-df-container {\n",
              "      display:flex;\n",
              "      flex-wrap:wrap;\n",
              "      gap: 12px;\n",
              "    }\n",
              "\n",
              "    .colab-df-convert {\n",
              "      background-color: #E8F0FE;\n",
              "      border: none;\n",
              "      border-radius: 50%;\n",
              "      cursor: pointer;\n",
              "      display: none;\n",
              "      fill: #1967D2;\n",
              "      height: 32px;\n",
              "      padding: 0 0 0 0;\n",
              "      width: 32px;\n",
              "    }\n",
              "\n",
              "    .colab-df-convert:hover {\n",
              "      background-color: #E2EBFA;\n",
              "      box-shadow: 0px 1px 2px rgba(60, 64, 67, 0.3), 0px 1px 3px 1px rgba(60, 64, 67, 0.15);\n",
              "      fill: #174EA6;\n",
              "    }\n",
              "\n",
              "    [theme=dark] .colab-df-convert {\n",
              "      background-color: #3B4455;\n",
              "      fill: #D2E3FC;\n",
              "    }\n",
              "\n",
              "    [theme=dark] .colab-df-convert:hover {\n",
              "      background-color: #434B5C;\n",
              "      box-shadow: 0px 1px 3px 1px rgba(0, 0, 0, 0.15);\n",
              "      filter: drop-shadow(0px 1px 2px rgba(0, 0, 0, 0.3));\n",
              "      fill: #FFFFFF;\n",
              "    }\n",
              "  </style>\n",
              "\n",
              "      <script>\n",
              "        const buttonEl =\n",
              "          document.querySelector('#df-4c929ddc-34d4-4206-b5c1-3fac5ab4c64f button.colab-df-convert');\n",
              "        buttonEl.style.display =\n",
              "          google.colab.kernel.accessAllowed ? 'block' : 'none';\n",
              "\n",
              "        async function convertToInteractive(key) {\n",
              "          const element = document.querySelector('#df-4c929ddc-34d4-4206-b5c1-3fac5ab4c64f');\n",
              "          const dataTable =\n",
              "            await google.colab.kernel.invokeFunction('convertToInteractive',\n",
              "                                                     [key], {});\n",
              "          if (!dataTable) return;\n",
              "\n",
              "          const docLinkHtml = 'Like what you see? Visit the ' +\n",
              "            '<a target=\"_blank\" href=https://colab.research.google.com/notebooks/data_table.ipynb>data table notebook</a>'\n",
              "            + ' to learn more about interactive tables.';\n",
              "          element.innerHTML = '';\n",
              "          dataTable['output_type'] = 'display_data';\n",
              "          await google.colab.output.renderOutput(dataTable, element);\n",
              "          const docLink = document.createElement('div');\n",
              "          docLink.innerHTML = docLinkHtml;\n",
              "          element.appendChild(docLink);\n",
              "        }\n",
              "      </script>\n",
              "    </div>\n",
              "  </div>\n",
              "  "
            ]
          },
          "metadata": {},
          "execution_count": 2
        }
      ]
    },
    {
      "cell_type": "markdown",
      "source": [
        "### Time to write\n",
        "\n",
        "Let us now check the writing time of the above dataframe we created. We will first create a decorator for calculating time and then write a function to save the dataframe into different file formats."
      ],
      "metadata": {
        "id": "rPkE4jkEst7x"
      }
    },
    {
      "cell_type": "code",
      "source": [
        "%time df.to_csv('test.csv', index=False)"
      ],
      "metadata": {
        "id": "1Iz7XFyoudXQ",
        "outputId": "deb0b2cd-29fa-4acd-816f-d4be1f0a31e2",
        "colab": {
          "base_uri": "https://localhost:8080/"
        }
      },
      "execution_count": 3,
      "outputs": [
        {
          "output_type": "stream",
          "name": "stdout",
          "text": [
            "CPU times: user 1.56 s, sys: 67.2 ms, total: 1.62 s\n",
            "Wall time: 1.64 s\n"
          ]
        }
      ]
    },
    {
      "cell_type": "code",
      "source": [
        "%time df.to_hdf('test.h5', key='root')"
      ],
      "metadata": {
        "colab": {
          "base_uri": "https://localhost:8080/"
        },
        "id": "nRxSLmokctIG",
        "outputId": "5c4aaa9e-c3ff-4156-9fc1-a0d5c44bc0c1"
      },
      "execution_count": 4,
      "outputs": [
        {
          "output_type": "stream",
          "name": "stdout",
          "text": [
            "CPU times: user 43.9 ms, sys: 12.3 ms, total: 56.2 ms\n",
            "Wall time: 164 ms\n"
          ]
        }
      ]
    },
    {
      "cell_type": "code",
      "source": [
        "%time df.to_parquet('test.parquet')"
      ],
      "metadata": {
        "colab": {
          "base_uri": "https://localhost:8080/"
        },
        "id": "DFRHG-Cac4Fp",
        "outputId": "8b791cd7-efaf-4d03-c2fa-f39f9de47364"
      },
      "execution_count": 5,
      "outputs": [
        {
          "output_type": "stream",
          "name": "stdout",
          "text": [
            "CPU times: user 99.7 ms, sys: 24.8 ms, total: 124 ms\n",
            "Wall time: 198 ms\n"
          ]
        }
      ]
    },
    {
      "cell_type": "code",
      "source": [
        "%time df.to_feather('test.feather')"
      ],
      "metadata": {
        "colab": {
          "base_uri": "https://localhost:8080/"
        },
        "id": "XnU1Sp8ndHNI",
        "outputId": "3fab691d-9d01-41cc-db9f-3e7ff7a73159"
      },
      "execution_count": 6,
      "outputs": [
        {
          "output_type": "stream",
          "name": "stdout",
          "text": [
            "CPU times: user 36.2 ms, sys: 14.2 ms, total: 50.4 ms\n",
            "Wall time: 58.9 ms\n"
          ]
        }
      ]
    },
    {
      "cell_type": "markdown",
      "source": [
        "From above we can see that **feather** & **parquet** are the file formats which works pretty well for writing to disk. Now let us consider the second parameter.\n",
        "\n",
        "### File size on Disk\n",
        "Let us now check the file size on disk."
      ],
      "metadata": {
        "id": "uUtar4J_dP3v"
      }
    },
    {
      "cell_type": "code",
      "source": [
        "%%bash\n",
        "du -sh test.*"
      ],
      "metadata": {
        "colab": {
          "base_uri": "https://localhost:8080/"
        },
        "id": "3CBJ1VPHdzaz",
        "outputId": "a15a44d0-9702-42cf-f838-05633dbebfcd"
      },
      "execution_count": 7,
      "outputs": [
        {
          "output_type": "stream",
          "name": "stdout",
          "text": [
            "19M\ttest.csv\n",
            "7.7M\ttest.feather\n",
            "8.5M\ttest.h5\n",
            "9.7M\ttest.parquet\n"
          ]
        }
      ]
    },
    {
      "cell_type": "markdown",
      "source": [
        "From the above result we can see that **feather** and **hdf** outperforms others. But we will check the performance again with some gigabyte of data afterward.\n",
        "\n",
        "### Time to read\n",
        "Let us check how much time does it take for a read operation."
      ],
      "metadata": {
        "id": "IH90ZALweQEA"
      }
    },
    {
      "cell_type": "code",
      "source": [
        "%%time \n",
        "df_csv=pd.read_csv('test.csv')"
      ],
      "metadata": {
        "colab": {
          "base_uri": "https://localhost:8080/"
        },
        "id": "jKZ2CLMAetEP",
        "outputId": "70547eb4-6a5c-4606-a62e-0d2e6b0fb393"
      },
      "execution_count": 8,
      "outputs": [
        {
          "output_type": "stream",
          "name": "stdout",
          "text": [
            "CPU times: user 203 ms, sys: 35.9 ms, total: 239 ms\n",
            "Wall time: 245 ms\n"
          ]
        }
      ]
    },
    {
      "cell_type": "code",
      "source": [
        "%%time\n",
        "df_hdf=pd.read_hdf('test.h5')"
      ],
      "metadata": {
        "colab": {
          "base_uri": "https://localhost:8080/"
        },
        "id": "KnHr0FaHfJbD",
        "outputId": "d4b95968-0be8-4b19-a1a6-976b9e054adf"
      },
      "execution_count": 9,
      "outputs": [
        {
          "output_type": "stream",
          "name": "stdout",
          "text": [
            "CPU times: user 16.1 ms, sys: 5.14 ms, total: 21.3 ms\n",
            "Wall time: 20.6 ms\n"
          ]
        }
      ]
    },
    {
      "cell_type": "code",
      "source": [
        "%%time\n",
        "df_parquet=pd.read_parquet('test.parquet')"
      ],
      "metadata": {
        "colab": {
          "base_uri": "https://localhost:8080/"
        },
        "id": "IoIcukvlfUdh",
        "outputId": "e1555a2a-2371-40a0-fd3d-d321e7411c3c"
      },
      "execution_count": 10,
      "outputs": [
        {
          "output_type": "stream",
          "name": "stdout",
          "text": [
            "CPU times: user 23.9 ms, sys: 29.5 ms, total: 53.3 ms\n",
            "Wall time: 87.3 ms\n"
          ]
        }
      ]
    },
    {
      "cell_type": "code",
      "source": [
        "%%time\n",
        "df_feather=pd.read_feather('test.feather')"
      ],
      "metadata": {
        "colab": {
          "base_uri": "https://localhost:8080/"
        },
        "id": "L3ownw65fZsC",
        "outputId": "0100f3a1-0042-47d0-dce3-2f4447e6e664"
      },
      "execution_count": 11,
      "outputs": [
        {
          "output_type": "stream",
          "name": "stdout",
          "text": [
            "CPU times: user 10.7 ms, sys: 9.31 ms, total: 20 ms\n",
            "Wall time: 17.2 ms\n"
          ]
        }
      ]
    },
    {
      "cell_type": "markdown",
      "source": [
        "### Memory Usage"
      ],
      "metadata": {
        "id": "D9T7IF5gZv28"
      }
    },
    {
      "cell_type": "code",
      "source": [
        "df_csv.info(memory_usage='deep', verbose=True)"
      ],
      "metadata": {
        "colab": {
          "base_uri": "https://localhost:8080/"
        },
        "id": "2UPHXAEPZ_--",
        "outputId": "152f791b-b0ab-4f31-b809-78e2fccf2a29"
      },
      "execution_count": 12,
      "outputs": [
        {
          "output_type": "stream",
          "name": "stdout",
          "text": [
            "<class 'pandas.core.frame.DataFrame'>\n",
            "RangeIndex: 100000 entries, 0 to 99999\n",
            "Data columns (total 10 columns):\n",
            " #   Column  Non-Null Count   Dtype  \n",
            "---  ------  --------------   -----  \n",
            " 0   col_0   100000 non-null  float64\n",
            " 1   col_1   100000 non-null  float64\n",
            " 2   col_2   100000 non-null  float64\n",
            " 3   col_3   100000 non-null  float64\n",
            " 4   col_4   100000 non-null  float64\n",
            " 5   col_5   100000 non-null  float64\n",
            " 6   col_6   100000 non-null  float64\n",
            " 7   col_7   100000 non-null  float64\n",
            " 8   col_8   100000 non-null  float64\n",
            " 9   col_9   100000 non-null  float64\n",
            "dtypes: float64(10)\n",
            "memory usage: 7.6 MB\n"
          ]
        }
      ]
    },
    {
      "cell_type": "code",
      "source": [
        "df_hdf.info(memory_usage='deep', verbose=True)"
      ],
      "metadata": {
        "colab": {
          "base_uri": "https://localhost:8080/"
        },
        "id": "OeHoPg6JaJen",
        "outputId": "e02f4be2-eab8-41d9-dd72-947f87ffd571"
      },
      "execution_count": 13,
      "outputs": [
        {
          "output_type": "stream",
          "name": "stdout",
          "text": [
            "<class 'pandas.core.frame.DataFrame'>\n",
            "Int64Index: 100000 entries, 0 to 99999\n",
            "Data columns (total 10 columns):\n",
            " #   Column  Non-Null Count   Dtype  \n",
            "---  ------  --------------   -----  \n",
            " 0   col_0   100000 non-null  float64\n",
            " 1   col_1   100000 non-null  float64\n",
            " 2   col_2   100000 non-null  float64\n",
            " 3   col_3   100000 non-null  float64\n",
            " 4   col_4   100000 non-null  float64\n",
            " 5   col_5   100000 non-null  float64\n",
            " 6   col_6   100000 non-null  float64\n",
            " 7   col_7   100000 non-null  float64\n",
            " 8   col_8   100000 non-null  float64\n",
            " 9   col_9   100000 non-null  float64\n",
            "dtypes: float64(10)\n",
            "memory usage: 8.4 MB\n"
          ]
        }
      ]
    },
    {
      "cell_type": "code",
      "source": [
        "df_parquet.info(memory_usage='deep', verbose=True)"
      ],
      "metadata": {
        "colab": {
          "base_uri": "https://localhost:8080/"
        },
        "id": "AMMSuClnatj6",
        "outputId": "a6a395f1-66e3-4963-a0f5-3233906b313a"
      },
      "execution_count": 14,
      "outputs": [
        {
          "output_type": "stream",
          "name": "stdout",
          "text": [
            "<class 'pandas.core.frame.DataFrame'>\n",
            "RangeIndex: 100000 entries, 0 to 99999\n",
            "Data columns (total 10 columns):\n",
            " #   Column  Non-Null Count   Dtype  \n",
            "---  ------  --------------   -----  \n",
            " 0   col_0   100000 non-null  float64\n",
            " 1   col_1   100000 non-null  float64\n",
            " 2   col_2   100000 non-null  float64\n",
            " 3   col_3   100000 non-null  float64\n",
            " 4   col_4   100000 non-null  float64\n",
            " 5   col_5   100000 non-null  float64\n",
            " 6   col_6   100000 non-null  float64\n",
            " 7   col_7   100000 non-null  float64\n",
            " 8   col_8   100000 non-null  float64\n",
            " 9   col_9   100000 non-null  float64\n",
            "dtypes: float64(10)\n",
            "memory usage: 7.6 MB\n"
          ]
        }
      ]
    },
    {
      "cell_type": "code",
      "source": [
        "df_feather.info(memory_usage='deep', verbose=True)"
      ],
      "metadata": {
        "colab": {
          "base_uri": "https://localhost:8080/"
        },
        "id": "OxDZeXeia0V3",
        "outputId": "5631232b-4dd4-4d00-b666-432084dc0c62"
      },
      "execution_count": 15,
      "outputs": [
        {
          "output_type": "stream",
          "name": "stdout",
          "text": [
            "<class 'pandas.core.frame.DataFrame'>\n",
            "RangeIndex: 100000 entries, 0 to 99999\n",
            "Data columns (total 10 columns):\n",
            " #   Column  Non-Null Count   Dtype  \n",
            "---  ------  --------------   -----  \n",
            " 0   col_0   100000 non-null  float64\n",
            " 1   col_1   100000 non-null  float64\n",
            " 2   col_2   100000 non-null  float64\n",
            " 3   col_3   100000 non-null  float64\n",
            " 4   col_4   100000 non-null  float64\n",
            " 5   col_5   100000 non-null  float64\n",
            " 6   col_6   100000 non-null  float64\n",
            " 7   col_7   100000 non-null  float64\n",
            " 8   col_8   100000 non-null  float64\n",
            " 9   col_9   100000 non-null  float64\n",
            "dtypes: float64(10)\n",
            "memory usage: 7.6 MB\n"
          ]
        }
      ]
    },
    {
      "cell_type": "markdown",
      "source": [
        "## Testing with categorical data.\n",
        "Now let us create data with both the categorical and numerical values and check the performances of different file formats."
      ],
      "metadata": {
        "id": "GQ7qXsuifhn_"
      }
    },
    {
      "cell_type": "code",
      "source": [
        "!pip install lorem"
      ],
      "metadata": {
        "id": "VkD23bbVg1rw",
        "outputId": "3dd3ea91-403d-49f5-a146-f1a8d51905be",
        "colab": {
          "base_uri": "https://localhost:8080/"
        }
      },
      "execution_count": 16,
      "outputs": [
        {
          "output_type": "stream",
          "name": "stdout",
          "text": [
            "Looking in indexes: https://pypi.org/simple, https://us-python.pkg.dev/colab-wheels/public/simple/\n",
            "Requirement already satisfied: lorem in /usr/local/lib/python3.7/dist-packages (0.1.1)\n"
          ]
        }
      ]
    },
    {
      "cell_type": "markdown",
      "source": [
        "###Prepare Data"
      ],
      "metadata": {
        "id": "gzCGLidZjyFQ"
      }
    },
    {
      "cell_type": "code",
      "source": [
        "from lorem import sentence\n",
        "\n",
        "words = np.array(sentence().strip().lower().replace(\".\", \" \").split())\n",
        "\n",
        "np.random.seed(0)  \n",
        "n = 5000000\n",
        "df = pd.DataFrame(np.c_[np.random.randn(n, 5),\n",
        "                  np.random.randint(0,10,(n, 2)),\n",
        "                  np.random.randint(0,1,(n, 2)),\n",
        "np.array([np.random.choice(words) for i in range(n)])] , \n",
        "columns=list('ABCDEFGHIJ'))\n",
        "\n",
        "df=df.astype(dtype={'A': float, 'B': float, 'C': float, 'D': float, 'E': float, 'F': int, 'G': int, 'H': int, 'I': int, 'J': str}, copy=True)\n",
        "df.loc[::10, 'A'] = np.NaN\n",
        "len(df)"
      ],
      "metadata": {
        "id": "NrBYk7PdgYxK",
        "outputId": "c75d7854-2b67-4471-db66-9e29a3bf620f",
        "colab": {
          "base_uri": "https://localhost:8080/"
        }
      },
      "execution_count": 17,
      "outputs": [
        {
          "output_type": "execute_result",
          "data": {
            "text/plain": [
              "5000000"
            ]
          },
          "metadata": {},
          "execution_count": 17
        }
      ]
    },
    {
      "cell_type": "markdown",
      "source": [
        "### Time to write"
      ],
      "metadata": {
        "id": "HgM5-O4bj1mi"
      }
    },
    {
      "cell_type": "code",
      "source": [
        "%time df.to_csv('test_big.csv', index=False)"
      ],
      "metadata": {
        "id": "P3-sl79VhEd1",
        "outputId": "2010f11e-f1e0-49af-8e6c-0b7fad1a9dc6",
        "colab": {
          "base_uri": "https://localhost:8080/"
        }
      },
      "execution_count": 18,
      "outputs": [
        {
          "output_type": "stream",
          "name": "stdout",
          "text": [
            "CPU times: user 44 s, sys: 921 ms, total: 44.9 s\n",
            "Wall time: 45 s\n"
          ]
        }
      ]
    },
    {
      "cell_type": "code",
      "source": [
        "%time df.to_hdf('test_big.h5', key='root', index=False)"
      ],
      "metadata": {
        "id": "GRrmh2jkjUw1",
        "outputId": "e8a1b6ce-5e0d-45eb-c114-3ca6075155a7",
        "colab": {
          "base_uri": "https://localhost:8080/"
        }
      },
      "execution_count": 19,
      "outputs": [
        {
          "output_type": "stream",
          "name": "stdout",
          "text": [
            "CPU times: user 2.21 s, sys: 828 ms, total: 3.03 s\n",
            "Wall time: 3.72 s\n"
          ]
        }
      ]
    },
    {
      "cell_type": "code",
      "source": [
        "%time df.to_parquet('test_big.parquet', index=False)"
      ],
      "metadata": {
        "id": "Z-vCOXP4jgXE",
        "outputId": "f783cccb-af63-4d17-8698-d027e52b8262",
        "colab": {
          "base_uri": "https://localhost:8080/"
        }
      },
      "execution_count": 20,
      "outputs": [
        {
          "output_type": "stream",
          "name": "stdout",
          "text": [
            "CPU times: user 1.38 s, sys: 336 ms, total: 1.72 s\n",
            "Wall time: 1.69 s\n"
          ]
        }
      ]
    },
    {
      "cell_type": "code",
      "source": [
        "%time df.to_feather('test_big.feather')"
      ],
      "metadata": {
        "id": "_fta9qUMjpHK",
        "outputId": "25598ac5-af5d-4f5c-9d13-f7e4ed3c55c8",
        "colab": {
          "base_uri": "https://localhost:8080/"
        }
      },
      "execution_count": 21,
      "outputs": [
        {
          "output_type": "stream",
          "name": "stdout",
          "text": [
            "CPU times: user 910 ms, sys: 316 ms, total: 1.23 s\n",
            "Wall time: 1.1 s\n"
          ]
        }
      ]
    },
    {
      "cell_type": "markdown",
      "source": [
        "### File size on disk"
      ],
      "metadata": {
        "id": "q_6fAC0Bj7JN"
      }
    },
    {
      "cell_type": "code",
      "source": [
        "%%bash\n",
        "du -sh test_big.*"
      ],
      "metadata": {
        "id": "mW4OhVMsjvuj",
        "outputId": "7bff9b13-451f-4ea6-9da4-b783030c8738",
        "colab": {
          "base_uri": "https://localhost:8080/"
        }
      },
      "execution_count": 22,
      "outputs": [
        {
          "output_type": "stream",
          "name": "stdout",
          "text": [
            "532M\ttest_big.csv\n",
            "244M\ttest_big.feather\n",
            "1.3G\ttest_big.h5\n",
            "195M\ttest_big.parquet\n"
          ]
        }
      ]
    },
    {
      "cell_type": "markdown",
      "source": [
        "### Time to read"
      ],
      "metadata": {
        "id": "Z9__uJEukjAx"
      }
    },
    {
      "cell_type": "code",
      "source": [
        "%%time \n",
        "df_big_csv=pd.read_csv('test_big.csv')"
      ],
      "metadata": {
        "id": "zEXxFX8jkCX1",
        "outputId": "6540db07-cc18-47ba-8a8b-5a3e29ac4a64",
        "colab": {
          "base_uri": "https://localhost:8080/"
        }
      },
      "execution_count": 23,
      "outputs": [
        {
          "output_type": "stream",
          "name": "stdout",
          "text": [
            "CPU times: user 5.8 s, sys: 9.08 s, total: 14.9 s\n",
            "Wall time: 14.9 s\n"
          ]
        }
      ]
    },
    {
      "cell_type": "code",
      "source": [
        "%%time\n",
        "df_big_hdf=pd.read_hdf('test_big.h5', key='root')"
      ],
      "metadata": {
        "id": "iijyDHY-ktn9",
        "outputId": "0e9e2fd4-2de5-4695-d760-7bfb313bd56f",
        "colab": {
          "base_uri": "https://localhost:8080/"
        }
      },
      "execution_count": 24,
      "outputs": [
        {
          "output_type": "stream",
          "name": "stdout",
          "text": [
            "CPU times: user 881 ms, sys: 579 ms, total: 1.46 s\n",
            "Wall time: 1.46 s\n"
          ]
        }
      ]
    },
    {
      "cell_type": "code",
      "source": [
        "%%time\n",
        "df_big_parquet=pd.read_parquet('test_big.parquet')"
      ],
      "metadata": {
        "id": "-1ts1znJk_XP",
        "outputId": "32f97830-267f-4e30-f4f6-afdfd7f0779d",
        "colab": {
          "base_uri": "https://localhost:8080/"
        }
      },
      "execution_count": 25,
      "outputs": [
        {
          "output_type": "stream",
          "name": "stdout",
          "text": [
            "CPU times: user 569 ms, sys: 595 ms, total: 1.16 s\n",
            "Wall time: 862 ms\n"
          ]
        }
      ]
    },
    {
      "cell_type": "code",
      "source": [
        "%%time\n",
        "df_big_feather=pd.read_feather('test_big.feather')"
      ],
      "metadata": {
        "id": "KqrcH_melJmw",
        "outputId": "e33de244-e071-40ca-e5de-de368e3982e9",
        "colab": {
          "base_uri": "https://localhost:8080/"
        }
      },
      "execution_count": 26,
      "outputs": [
        {
          "output_type": "stream",
          "name": "stdout",
          "text": [
            "CPU times: user 429 ms, sys: 534 ms, total: 964 ms\n",
            "Wall time: 641 ms\n"
          ]
        }
      ]
    },
    {
      "cell_type": "code",
      "source": [
        "df_big_parquet.dtypes"
      ],
      "metadata": {
        "colab": {
          "base_uri": "https://localhost:8080/"
        },
        "id": "Q2ZaZUrvg15A",
        "outputId": "a5ac80fa-b26c-48af-8a23-2f5134d754f7"
      },
      "execution_count": 27,
      "outputs": [
        {
          "output_type": "execute_result",
          "data": {
            "text/plain": [
              "A    float64\n",
              "B    float64\n",
              "C    float64\n",
              "D    float64\n",
              "E    float64\n",
              "F      int64\n",
              "G      int64\n",
              "H      int64\n",
              "I      int64\n",
              "J     object\n",
              "dtype: object"
            ]
          },
          "metadata": {},
          "execution_count": 27
        }
      ]
    },
    {
      "cell_type": "markdown",
      "source": [
        "### Memory Usage"
      ],
      "metadata": {
        "id": "vTpugGkxbnXb"
      }
    },
    {
      "cell_type": "code",
      "source": [
        "df_big_csv.info(memory_usage='deep', verbose=True)"
      ],
      "metadata": {
        "colab": {
          "base_uri": "https://localhost:8080/"
        },
        "id": "D6Acigzfbp9W",
        "outputId": "389f5fe2-bddd-40f1-bdb4-180afce35836"
      },
      "execution_count": 28,
      "outputs": [
        {
          "output_type": "stream",
          "name": "stdout",
          "text": [
            "<class 'pandas.core.frame.DataFrame'>\n",
            "RangeIndex: 5000000 entries, 0 to 4999999\n",
            "Data columns (total 10 columns):\n",
            " #   Column  Dtype  \n",
            "---  ------  -----  \n",
            " 0   A       float64\n",
            " 1   B       float64\n",
            " 2   C       float64\n",
            " 3   D       float64\n",
            " 4   E       float64\n",
            " 5   F       int64  \n",
            " 6   G       int64  \n",
            " 7   H       int64  \n",
            " 8   I       int64  \n",
            " 9   J       object \n",
            "dtypes: float64(5), int64(4), object(1)\n",
            "memory usage: 644.4 MB\n"
          ]
        }
      ]
    },
    {
      "cell_type": "code",
      "source": [
        "df_big_hdf.info(memory_usage='deep', verbose=True)"
      ],
      "metadata": {
        "colab": {
          "base_uri": "https://localhost:8080/"
        },
        "id": "AbB5GcoCcU2b",
        "outputId": "0c9fdca0-2ba4-4353-b968-9e1434fc2b20"
      },
      "execution_count": 29,
      "outputs": [
        {
          "output_type": "stream",
          "name": "stdout",
          "text": [
            "<class 'pandas.core.frame.DataFrame'>\n",
            "Int64Index: 5000000 entries, 0 to 4999999\n",
            "Data columns (total 10 columns):\n",
            " #   Column  Dtype  \n",
            "---  ------  -----  \n",
            " 0   A       float64\n",
            " 1   B       float64\n",
            " 2   C       float64\n",
            " 3   D       float64\n",
            " 4   E       float64\n",
            " 5   F       int64  \n",
            " 6   G       int64  \n",
            " 7   H       int64  \n",
            " 8   I       int64  \n",
            " 9   J       object \n",
            "dtypes: float64(5), int64(4), object(1)\n",
            "memory usage: 682.6 MB\n"
          ]
        }
      ]
    },
    {
      "cell_type": "code",
      "source": [
        "df_big_parquet.info(memory_usage='deep', verbose=True)"
      ],
      "metadata": {
        "colab": {
          "base_uri": "https://localhost:8080/"
        },
        "id": "f1DWT9IXchbT",
        "outputId": "1271e376-69ad-46de-cbb6-1d48456604ca"
      },
      "execution_count": 30,
      "outputs": [
        {
          "output_type": "stream",
          "name": "stdout",
          "text": [
            "<class 'pandas.core.frame.DataFrame'>\n",
            "RangeIndex: 5000000 entries, 0 to 4999999\n",
            "Data columns (total 10 columns):\n",
            " #   Column  Dtype  \n",
            "---  ------  -----  \n",
            " 0   A       float64\n",
            " 1   B       float64\n",
            " 2   C       float64\n",
            " 3   D       float64\n",
            " 4   E       float64\n",
            " 5   F       int64  \n",
            " 6   G       int64  \n",
            " 7   H       int64  \n",
            " 8   I       int64  \n",
            " 9   J       object \n",
            "dtypes: float64(5), int64(4), object(1)\n",
            "memory usage: 644.4 MB\n"
          ]
        }
      ]
    },
    {
      "cell_type": "code",
      "source": [
        "df_big_feather.info(memory_usage='deep', verbose=True)"
      ],
      "metadata": {
        "colab": {
          "base_uri": "https://localhost:8080/"
        },
        "id": "a4dcJf-_cosf",
        "outputId": "a1546680-5adc-476f-dd15-c394c6685b1c"
      },
      "execution_count": 31,
      "outputs": [
        {
          "output_type": "stream",
          "name": "stdout",
          "text": [
            "<class 'pandas.core.frame.DataFrame'>\n",
            "RangeIndex: 5000000 entries, 0 to 4999999\n",
            "Data columns (total 10 columns):\n",
            " #   Column  Dtype  \n",
            "---  ------  -----  \n",
            " 0   A       float64\n",
            " 1   B       float64\n",
            " 2   C       float64\n",
            " 3   D       float64\n",
            " 4   E       float64\n",
            " 5   F       int64  \n",
            " 6   G       int64  \n",
            " 7   H       int64  \n",
            " 8   I       int64  \n",
            " 9   J       object \n",
            "dtypes: float64(5), int64(4), object(1)\n",
            "memory usage: 644.4 MB\n"
          ]
        }
      ]
    },
    {
      "cell_type": "markdown",
      "source": [
        "We can see in the above cells that when we use raw categorical fields the size of the file gets large in case of feather and hdf. Now let us use the pd.Categorical function and modify the data and check what happens."
      ],
      "metadata": {
        "id": "ZkkWZG_NlcXt"
      }
    },
    {
      "cell_type": "code",
      "source": [
        "df['J'] = pd.Categorical(df['J'])"
      ],
      "metadata": {
        "id": "H6mKI4K6lPY7"
      },
      "execution_count": 32,
      "outputs": []
    },
    {
      "cell_type": "code",
      "source": [
        "df.dtypes"
      ],
      "metadata": {
        "id": "a9R2_J4F8xdY",
        "outputId": "dd985b21-4b4b-47f7-9b6a-e5fa56d549b2",
        "colab": {
          "base_uri": "https://localhost:8080/"
        }
      },
      "execution_count": 33,
      "outputs": [
        {
          "output_type": "execute_result",
          "data": {
            "text/plain": [
              "A     float64\n",
              "B     float64\n",
              "C     float64\n",
              "D     float64\n",
              "E     float64\n",
              "F       int64\n",
              "G       int64\n",
              "H       int64\n",
              "I       int64\n",
              "J    category\n",
              "dtype: object"
            ]
          },
          "metadata": {},
          "execution_count": 33
        }
      ]
    },
    {
      "cell_type": "markdown",
      "source": [
        "### Time to write"
      ],
      "metadata": {
        "id": "lrW1nWFDl8Aq"
      }
    },
    {
      "cell_type": "code",
      "source": [
        "%time df.to_csv('test_big_pd_cat.csv')"
      ],
      "metadata": {
        "id": "NmTTty61qTn6",
        "outputId": "a3d0c940-937c-4b51-bfbe-c4e20ae81f79",
        "colab": {
          "base_uri": "https://localhost:8080/"
        }
      },
      "execution_count": 34,
      "outputs": [
        {
          "output_type": "stream",
          "name": "stdout",
          "text": [
            "CPU times: user 47.8 s, sys: 976 ms, total: 48.7 s\n",
            "Wall time: 49.7 s\n"
          ]
        }
      ]
    },
    {
      "cell_type": "code",
      "source": [
        "%time df.to_hdf('test_big_pd_cat.h5', key='root', format='table')"
      ],
      "metadata": {
        "id": "vyJ_aN6pl15B",
        "outputId": "e7c07890-af1b-49c2-cd68-e34630b7f8f3",
        "colab": {
          "base_uri": "https://localhost:8080/"
        }
      },
      "execution_count": 35,
      "outputs": [
        {
          "output_type": "stream",
          "name": "stdout",
          "text": [
            "CPU times: user 3.21 s, sys: 655 ms, total: 3.86 s\n",
            "Wall time: 5.29 s\n"
          ]
        }
      ]
    },
    {
      "cell_type": "code",
      "source": [
        "%time df.to_parquet('test_big_pd_cat.parquet')"
      ],
      "metadata": {
        "id": "Vma2CNVKqwQo",
        "outputId": "877617a5-8635-454b-8a50-7e964ce20252",
        "colab": {
          "base_uri": "https://localhost:8080/"
        }
      },
      "execution_count": 36,
      "outputs": [
        {
          "output_type": "stream",
          "name": "stdout",
          "text": [
            "CPU times: user 969 ms, sys: 276 ms, total: 1.25 s\n",
            "Wall time: 1.31 s\n"
          ]
        }
      ]
    },
    {
      "cell_type": "code",
      "source": [
        "%time df.to_feather('test_big_pd_cat.feather')"
      ],
      "metadata": {
        "id": "RRojwlU2rI4Q",
        "outputId": "17921ae3-7d7d-490d-e71f-684d47e05f6d",
        "colab": {
          "base_uri": "https://localhost:8080/"
        }
      },
      "execution_count": 37,
      "outputs": [
        {
          "output_type": "stream",
          "name": "stdout",
          "text": [
            "CPU times: user 695 ms, sys: 240 ms, total: 935 ms\n",
            "Wall time: 754 ms\n"
          ]
        }
      ]
    },
    {
      "cell_type": "markdown",
      "source": [
        "### File size on disk"
      ],
      "metadata": {
        "id": "ILTWFCEorXw9"
      }
    },
    {
      "cell_type": "code",
      "source": [
        "%%bash\n",
        "du -sh test_big_pd_cat.*"
      ],
      "metadata": {
        "id": "Ee8iYOJHrOiC",
        "outputId": "e0138750-cc1c-47f9-95fc-eafd34ea19e8",
        "colab": {
          "base_uri": "https://localhost:8080/"
        }
      },
      "execution_count": 38,
      "outputs": [
        {
          "output_type": "stream",
          "name": "stdout",
          "text": [
            "569M\ttest_big_pd_cat.csv\n",
            "219M\ttest_big_pd_cat.feather\n",
            "517M\ttest_big_pd_cat.h5\n",
            "195M\ttest_big_pd_cat.parquet\n"
          ]
        }
      ]
    },
    {
      "cell_type": "markdown",
      "source": [
        "### Time to read"
      ],
      "metadata": {
        "id": "DxjMRro_reoc"
      }
    },
    {
      "cell_type": "code",
      "source": [
        "%%time\n",
        "df_big_pd_cat_csv = pd.read_csv('test_big_pd_cat.csv')"
      ],
      "metadata": {
        "id": "XaKCawgqreSj",
        "outputId": "e53b25ce-6cab-4a76-ee5d-9d568adb3f4d",
        "colab": {
          "base_uri": "https://localhost:8080/"
        }
      },
      "execution_count": 39,
      "outputs": [
        {
          "output_type": "stream",
          "name": "stdout",
          "text": [
            "CPU times: user 6.19 s, sys: 1.46 s, total: 7.65 s\n",
            "Wall time: 7.66 s\n"
          ]
        }
      ]
    },
    {
      "cell_type": "code",
      "source": [
        "%%time\n",
        "df_big_pd_cat_hdf = pd.read_hdf('test_big_pd_cat.h5')"
      ],
      "metadata": {
        "id": "KdhKoHgErUwq",
        "outputId": "ca80662e-34f8-4b60-cf4b-18e564157fef",
        "colab": {
          "base_uri": "https://localhost:8080/"
        }
      },
      "execution_count": 40,
      "outputs": [
        {
          "output_type": "stream",
          "name": "stdout",
          "text": [
            "CPU times: user 827 ms, sys: 254 ms, total: 1.08 s\n",
            "Wall time: 1.08 s\n"
          ]
        }
      ]
    },
    {
      "cell_type": "code",
      "source": [
        "%%time\n",
        "df_big_pd_cat_parquet = pd.read_parquet('test_big_pd_cat.parquet')"
      ],
      "metadata": {
        "id": "ODTDAtIwrreR",
        "outputId": "125dc56e-9438-4e6e-b064-d1b32cd86a04",
        "colab": {
          "base_uri": "https://localhost:8080/"
        }
      },
      "execution_count": 41,
      "outputs": [
        {
          "output_type": "stream",
          "name": "stdout",
          "text": [
            "CPU times: user 411 ms, sys: 577 ms, total: 988 ms\n",
            "Wall time: 695 ms\n"
          ]
        }
      ]
    },
    {
      "cell_type": "code",
      "source": [
        "%%time\n",
        "df_big_pd_cat_feather = pd.read_feather('test_big_pd_cat.feather')"
      ],
      "metadata": {
        "id": "rYicnhboryuR",
        "outputId": "ea14ee81-b3a5-48ac-c8a7-5fe1acf8b609",
        "colab": {
          "base_uri": "https://localhost:8080/"
        }
      },
      "execution_count": 42,
      "outputs": [
        {
          "output_type": "stream",
          "name": "stdout",
          "text": [
            "CPU times: user 321 ms, sys: 406 ms, total: 726 ms\n",
            "Wall time: 492 ms\n"
          ]
        }
      ]
    },
    {
      "cell_type": "markdown",
      "source": [
        "## Feather or Parquet\n",
        "1. Parquet format is designed for long-term storage, where Arrow is more intended for short term or ephemeral storage because files volume are larger.\n",
        "\n",
        "2. Parquet is usually more expensive to write than Feather as it features more layers of encoding and compression.\n",
        "\n",
        "3. Feather is unmodified raw columnar Arrow memory. We will probably add simple compression to Feather in the future.\n",
        "\n",
        "4. Due to dictionary encoding, RLE encoding, and data page compression, Parquet files will often be much smaller than Feather files\n",
        "\n",
        "5. Parquet is a standard storage format for analytics that’s supported by Spark. So if you are doing analytics, Parquet is a good option as a reference storage format for query by multiple systems\n",
        "\n",
        "[Source StackOverflow](https://stackoverflow.com/questions/48083405/what-are-the-differences-between-feather-and-parquet)"
      ],
      "metadata": {
        "id": "I0N-Z2ZSr-aJ"
      }
    },
    {
      "cell_type": "markdown",
      "source": [
        "## Bibliograpgy\n",
        "This notebook is inspired from the following link.<br>\n",
        "\n",
        "[File Format - Python tools for big data](https://pnavaro.github.io/big-data/14-FileFormats.html)"
      ],
      "metadata": {
        "id": "4AIPs8_GsWUQ"
      }
    }
  ]
}