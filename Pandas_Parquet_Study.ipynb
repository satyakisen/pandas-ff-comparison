{
  "nbformat": 4,
  "nbformat_minor": 0,
  "metadata": {
    "colab": {
      "provenance": [],
      "authorship_tag": "ABX9TyNWl73cLyEle4w2eQdlhpCb",
      "include_colab_link": true
    },
    "kernelspec": {
      "name": "python3",
      "display_name": "Python 3"
    },
    "language_info": {
      "name": "python"
    }
  },
  "cells": [
    {
      "cell_type": "markdown",
      "metadata": {
        "id": "view-in-github",
        "colab_type": "text"
      },
      "source": [
        "<a href=\"https://colab.research.google.com/github/satyakisen/pandas-ff-comparison/blob/main/Pandas_Parquet_Study.ipynb\" target=\"_parent\"><img src=\"https://colab.research.google.com/assets/colab-badge.svg\" alt=\"Open In Colab\"/></a>"
      ]
    },
    {
      "cell_type": "markdown",
      "source": [
        "# Pandas Parquet Study"
      ],
      "metadata": {
        "id": "N93-MLaEcAVN"
      }
    },
    {
      "cell_type": "code",
      "source": [
        "!pip install lorem\n",
        "!pip install pyarrow\n",
        "!pip install fastparquet"
      ],
      "metadata": {
        "id": "9D9DdKPaeZDX",
        "outputId": "97000a83-9645-413a-d7b6-7f6a99868fc8",
        "colab": {
          "base_uri": "https://localhost:8080/"
        }
      },
      "execution_count": 63,
      "outputs": [
        {
          "output_type": "stream",
          "name": "stdout",
          "text": [
            "Looking in indexes: https://pypi.org/simple, https://us-python.pkg.dev/colab-wheels/public/simple/\n",
            "Collecting lorem\n",
            "  Downloading lorem-0.1.1-py3-none-any.whl (5.0 kB)\n",
            "Installing collected packages: lorem\n",
            "Successfully installed lorem-0.1.1\n",
            "Looking in indexes: https://pypi.org/simple, https://us-python.pkg.dev/colab-wheels/public/simple/\n",
            "Requirement already satisfied: pyarrow in /usr/local/lib/python3.7/dist-packages (6.0.1)\n",
            "Requirement already satisfied: numpy>=1.16.6 in /usr/local/lib/python3.7/dist-packages (from pyarrow) (1.21.6)\n",
            "Looking in indexes: https://pypi.org/simple, https://us-python.pkg.dev/colab-wheels/public/simple/\n",
            "Requirement already satisfied: fastparquet in /usr/local/lib/python3.7/dist-packages (0.8.1)\n",
            "Requirement already satisfied: fsspec in /usr/local/lib/python3.7/dist-packages (from fastparquet) (2022.8.2)\n",
            "Requirement already satisfied: pandas>=1.1.0 in /usr/local/lib/python3.7/dist-packages (from fastparquet) (1.3.5)\n",
            "Requirement already satisfied: numpy>=1.18 in /usr/local/lib/python3.7/dist-packages (from fastparquet) (1.21.6)\n",
            "Requirement already satisfied: cramjam>=2.3.0 in /usr/local/lib/python3.7/dist-packages (from fastparquet) (2.5.0)\n",
            "Requirement already satisfied: pytz>=2017.3 in /usr/local/lib/python3.7/dist-packages (from pandas>=1.1.0->fastparquet) (2022.4)\n",
            "Requirement already satisfied: python-dateutil>=2.7.3 in /usr/local/lib/python3.7/dist-packages (from pandas>=1.1.0->fastparquet) (2.8.2)\n",
            "Requirement already satisfied: six>=1.5 in /usr/local/lib/python3.7/dist-packages (from python-dateutil>=2.7.3->pandas>=1.1.0->fastparquet) (1.15.0)\n"
          ]
        }
      ]
    },
    {
      "cell_type": "code",
      "source": [
        "import numpy as np\n",
        "import pandas as pd\n",
        "from lorem import sentence"
      ],
      "metadata": {
        "id": "9Nw847YwcEIo"
      },
      "execution_count": 65,
      "outputs": []
    },
    {
      "cell_type": "code",
      "source": [
        "n = 1000000\n",
        "def make_data(row_n):\n",
        "  words = np.array(sentence().strip().lower().replace(\".\", \" \").split())\n",
        "  df= pd.DataFrame(\n",
        "        np.c_[np.random.randn(row_n, 5),\n",
        "              np.random.randint(0,10, (row_n, 2)),\n",
        "              np.random.randint(0, 1, (row_n,2)),\n",
        "              np.array([np.random.choice(words) for i in range(row_n)])\n",
        "              ],\n",
        "         columns=list('ABCDEFGHIJ'))\n",
        "  return df.astype(dtype={'A': float, 'B': float, 'C': float, 'D': float, 'E': float, 'F': int, 'G': int, 'H': int, 'I': int, 'J': str}, copy=True)\n",
        "\n",
        "df = make_data(n)\n",
        "df.size"
      ],
      "metadata": {
        "id": "eJS9ZsyLcKox",
        "outputId": "e5c0310c-4f1a-4ff4-cdaa-674590605d68",
        "colab": {
          "base_uri": "https://localhost:8080/"
        }
      },
      "execution_count": 73,
      "outputs": [
        {
          "output_type": "execute_result",
          "data": {
            "text/plain": [
              "10000000"
            ]
          },
          "metadata": {},
          "execution_count": 73
        }
      ]
    },
    {
      "cell_type": "code",
      "source": [
        "df.head(5)"
      ],
      "metadata": {
        "id": "3QPFQKj0dT90",
        "outputId": "7ae859fa-bc46-48b9-a0bf-0a28ffce11f5",
        "colab": {
          "base_uri": "https://localhost:8080/",
          "height": 206
        }
      },
      "execution_count": 74,
      "outputs": [
        {
          "output_type": "execute_result",
          "data": {
            "text/plain": [
              "          A         B         C         D         E  F  G  H  I           J\n",
              "0  1.665591  0.784335 -1.271533  0.560633 -1.120160  1  8  0  0      magnam\n",
              "1  0.381391  0.872228  0.082269  1.075588 -1.781560  0  9  0  0  etincidunt\n",
              "2  0.488688  0.359747 -1.503605  0.175451  0.355394  1  5  0  0       velit\n",
              "3 -1.080361 -0.279626 -0.611445 -0.457591 -0.398964  8  6  0  0  etincidunt\n",
              "4 -0.217043 -0.419938  0.213987  1.608818 -0.689277  8  4  0  0        modi"
            ],
            "text/html": [
              "\n",
              "  <div id=\"df-bb873e57-6715-467b-a49d-48e74a457181\">\n",
              "    <div class=\"colab-df-container\">\n",
              "      <div>\n",
              "<style scoped>\n",
              "    .dataframe tbody tr th:only-of-type {\n",
              "        vertical-align: middle;\n",
              "    }\n",
              "\n",
              "    .dataframe tbody tr th {\n",
              "        vertical-align: top;\n",
              "    }\n",
              "\n",
              "    .dataframe thead th {\n",
              "        text-align: right;\n",
              "    }\n",
              "</style>\n",
              "<table border=\"1\" class=\"dataframe\">\n",
              "  <thead>\n",
              "    <tr style=\"text-align: right;\">\n",
              "      <th></th>\n",
              "      <th>A</th>\n",
              "      <th>B</th>\n",
              "      <th>C</th>\n",
              "      <th>D</th>\n",
              "      <th>E</th>\n",
              "      <th>F</th>\n",
              "      <th>G</th>\n",
              "      <th>H</th>\n",
              "      <th>I</th>\n",
              "      <th>J</th>\n",
              "    </tr>\n",
              "  </thead>\n",
              "  <tbody>\n",
              "    <tr>\n",
              "      <th>0</th>\n",
              "      <td>1.665591</td>\n",
              "      <td>0.784335</td>\n",
              "      <td>-1.271533</td>\n",
              "      <td>0.560633</td>\n",
              "      <td>-1.120160</td>\n",
              "      <td>1</td>\n",
              "      <td>8</td>\n",
              "      <td>0</td>\n",
              "      <td>0</td>\n",
              "      <td>magnam</td>\n",
              "    </tr>\n",
              "    <tr>\n",
              "      <th>1</th>\n",
              "      <td>0.381391</td>\n",
              "      <td>0.872228</td>\n",
              "      <td>0.082269</td>\n",
              "      <td>1.075588</td>\n",
              "      <td>-1.781560</td>\n",
              "      <td>0</td>\n",
              "      <td>9</td>\n",
              "      <td>0</td>\n",
              "      <td>0</td>\n",
              "      <td>etincidunt</td>\n",
              "    </tr>\n",
              "    <tr>\n",
              "      <th>2</th>\n",
              "      <td>0.488688</td>\n",
              "      <td>0.359747</td>\n",
              "      <td>-1.503605</td>\n",
              "      <td>0.175451</td>\n",
              "      <td>0.355394</td>\n",
              "      <td>1</td>\n",
              "      <td>5</td>\n",
              "      <td>0</td>\n",
              "      <td>0</td>\n",
              "      <td>velit</td>\n",
              "    </tr>\n",
              "    <tr>\n",
              "      <th>3</th>\n",
              "      <td>-1.080361</td>\n",
              "      <td>-0.279626</td>\n",
              "      <td>-0.611445</td>\n",
              "      <td>-0.457591</td>\n",
              "      <td>-0.398964</td>\n",
              "      <td>8</td>\n",
              "      <td>6</td>\n",
              "      <td>0</td>\n",
              "      <td>0</td>\n",
              "      <td>etincidunt</td>\n",
              "    </tr>\n",
              "    <tr>\n",
              "      <th>4</th>\n",
              "      <td>-0.217043</td>\n",
              "      <td>-0.419938</td>\n",
              "      <td>0.213987</td>\n",
              "      <td>1.608818</td>\n",
              "      <td>-0.689277</td>\n",
              "      <td>8</td>\n",
              "      <td>4</td>\n",
              "      <td>0</td>\n",
              "      <td>0</td>\n",
              "      <td>modi</td>\n",
              "    </tr>\n",
              "  </tbody>\n",
              "</table>\n",
              "</div>\n",
              "      <button class=\"colab-df-convert\" onclick=\"convertToInteractive('df-bb873e57-6715-467b-a49d-48e74a457181')\"\n",
              "              title=\"Convert this dataframe to an interactive table.\"\n",
              "              style=\"display:none;\">\n",
              "        \n",
              "  <svg xmlns=\"http://www.w3.org/2000/svg\" height=\"24px\"viewBox=\"0 0 24 24\"\n",
              "       width=\"24px\">\n",
              "    <path d=\"M0 0h24v24H0V0z\" fill=\"none\"/>\n",
              "    <path d=\"M18.56 5.44l.94 2.06.94-2.06 2.06-.94-2.06-.94-.94-2.06-.94 2.06-2.06.94zm-11 1L8.5 8.5l.94-2.06 2.06-.94-2.06-.94L8.5 2.5l-.94 2.06-2.06.94zm10 10l.94 2.06.94-2.06 2.06-.94-2.06-.94-.94-2.06-.94 2.06-2.06.94z\"/><path d=\"M17.41 7.96l-1.37-1.37c-.4-.4-.92-.59-1.43-.59-.52 0-1.04.2-1.43.59L10.3 9.45l-7.72 7.72c-.78.78-.78 2.05 0 2.83L4 21.41c.39.39.9.59 1.41.59.51 0 1.02-.2 1.41-.59l7.78-7.78 2.81-2.81c.8-.78.8-2.07 0-2.86zM5.41 20L4 18.59l7.72-7.72 1.47 1.35L5.41 20z\"/>\n",
              "  </svg>\n",
              "      </button>\n",
              "      \n",
              "  <style>\n",
              "    .colab-df-container {\n",
              "      display:flex;\n",
              "      flex-wrap:wrap;\n",
              "      gap: 12px;\n",
              "    }\n",
              "\n",
              "    .colab-df-convert {\n",
              "      background-color: #E8F0FE;\n",
              "      border: none;\n",
              "      border-radius: 50%;\n",
              "      cursor: pointer;\n",
              "      display: none;\n",
              "      fill: #1967D2;\n",
              "      height: 32px;\n",
              "      padding: 0 0 0 0;\n",
              "      width: 32px;\n",
              "    }\n",
              "\n",
              "    .colab-df-convert:hover {\n",
              "      background-color: #E2EBFA;\n",
              "      box-shadow: 0px 1px 2px rgba(60, 64, 67, 0.3), 0px 1px 3px 1px rgba(60, 64, 67, 0.15);\n",
              "      fill: #174EA6;\n",
              "    }\n",
              "\n",
              "    [theme=dark] .colab-df-convert {\n",
              "      background-color: #3B4455;\n",
              "      fill: #D2E3FC;\n",
              "    }\n",
              "\n",
              "    [theme=dark] .colab-df-convert:hover {\n",
              "      background-color: #434B5C;\n",
              "      box-shadow: 0px 1px 3px 1px rgba(0, 0, 0, 0.15);\n",
              "      filter: drop-shadow(0px 1px 2px rgba(0, 0, 0, 0.3));\n",
              "      fill: #FFFFFF;\n",
              "    }\n",
              "  </style>\n",
              "\n",
              "      <script>\n",
              "        const buttonEl =\n",
              "          document.querySelector('#df-bb873e57-6715-467b-a49d-48e74a457181 button.colab-df-convert');\n",
              "        buttonEl.style.display =\n",
              "          google.colab.kernel.accessAllowed ? 'block' : 'none';\n",
              "\n",
              "        async function convertToInteractive(key) {\n",
              "          const element = document.querySelector('#df-bb873e57-6715-467b-a49d-48e74a457181');\n",
              "          const dataTable =\n",
              "            await google.colab.kernel.invokeFunction('convertToInteractive',\n",
              "                                                     [key], {});\n",
              "          if (!dataTable) return;\n",
              "\n",
              "          const docLinkHtml = 'Like what you see? Visit the ' +\n",
              "            '<a target=\"_blank\" href=https://colab.research.google.com/notebooks/data_table.ipynb>data table notebook</a>'\n",
              "            + ' to learn more about interactive tables.';\n",
              "          element.innerHTML = '';\n",
              "          dataTable['output_type'] = 'display_data';\n",
              "          await google.colab.output.renderOutput(dataTable, element);\n",
              "          const docLink = document.createElement('div');\n",
              "          docLink.innerHTML = docLinkHtml;\n",
              "          element.appendChild(docLink);\n",
              "        }\n",
              "      </script>\n",
              "    </div>\n",
              "  </div>\n",
              "  "
            ]
          },
          "metadata": {},
          "execution_count": 74
        }
      ]
    },
    {
      "cell_type": "markdown",
      "source": [
        "## Compression is None\n"
      ],
      "metadata": {
        "id": "vCW6-PbQh7Xn"
      }
    },
    {
      "cell_type": "markdown",
      "source": [
        "### Time to write"
      ],
      "metadata": {
        "id": "DyGOEdMGiIJN"
      }
    },
    {
      "cell_type": "code",
      "source": [
        "%time df.to_parquet('test_auto_none.parquet',engine='auto', compression=None)"
      ],
      "metadata": {
        "id": "9uYMsNmZh3Gc",
        "outputId": "376224cd-df89-414c-f8d6-17469b9c0272",
        "colab": {
          "base_uri": "https://localhost:8080/"
        }
      },
      "execution_count": 81,
      "outputs": [
        {
          "output_type": "stream",
          "name": "stdout",
          "text": [
            "CPU times: user 328 ms, sys: 98.8 ms, total: 427 ms\n",
            "Wall time: 446 ms\n"
          ]
        }
      ]
    },
    {
      "cell_type": "code",
      "source": [
        "%time df.to_parquet('test_parr_none.parquet',engine='pyarrow', compression=None)"
      ],
      "metadata": {
        "id": "a2v4H2CYiVi5",
        "outputId": "f6d56241-973b-4166-d150-b88a1bf95467",
        "colab": {
          "base_uri": "https://localhost:8080/"
        }
      },
      "execution_count": 82,
      "outputs": [
        {
          "output_type": "stream",
          "name": "stdout",
          "text": [
            "CPU times: user 363 ms, sys: 103 ms, total: 466 ms\n",
            "Wall time: 540 ms\n"
          ]
        }
      ]
    },
    {
      "cell_type": "code",
      "source": [
        "%time df.to_parquet('test_fp_none.parquet',engine='fastparquet', compression=None)"
      ],
      "metadata": {
        "id": "dt2VuJ0-ipd5",
        "outputId": "28a7165a-6df2-4a5d-8385-5e7060bc46c1",
        "colab": {
          "base_uri": "https://localhost:8080/"
        }
      },
      "execution_count": 83,
      "outputs": [
        {
          "output_type": "stream",
          "name": "stdout",
          "text": [
            "CPU times: user 645 ms, sys: 143 ms, total: 787 ms\n",
            "Wall time: 859 ms\n"
          ]
        }
      ]
    },
    {
      "cell_type": "markdown",
      "source": [
        "### File size on disk"
      ],
      "metadata": {
        "id": "Ogu7qMZOixcH"
      }
    },
    {
      "cell_type": "code",
      "source": [
        "%%bash\n",
        "du -sh test_*_none.parquet"
      ],
      "metadata": {
        "id": "wJNZoHtBiuhe",
        "outputId": "0ce285d7-bbb6-4a91-f333-918f64f99fa8",
        "colab": {
          "base_uri": "https://localhost:8080/"
        }
      },
      "execution_count": 80,
      "outputs": [
        {
          "output_type": "stream",
          "name": "stdout",
          "text": [
            "41M\ttest_auto_none.parquet\n",
            "79M\ttest_fp_none.parquet\n",
            "41M\ttest_parr_none.parquet\n"
          ]
        }
      ]
    },
    {
      "cell_type": "markdown",
      "source": [
        "### Time to read"
      ],
      "metadata": {
        "id": "LV9Vk2gkjIXp"
      }
    },
    {
      "cell_type": "code",
      "source": [
        "%time df_auto_none = pd.read_parquet('test_auto_none.parquet',engine='auto')"
      ],
      "metadata": {
        "id": "x0Dliq63i5YX",
        "outputId": "3a1059d7-2706-4f75-95f1-211a6d467fd2",
        "colab": {
          "base_uri": "https://localhost:8080/"
        }
      },
      "execution_count": 92,
      "outputs": [
        {
          "output_type": "stream",
          "name": "stdout",
          "text": [
            "CPU times: user 109 ms, sys: 135 ms, total: 244 ms\n",
            "Wall time: 168 ms\n"
          ]
        }
      ]
    },
    {
      "cell_type": "code",
      "source": [
        "%time df_parr_none = pd.read_parquet('test_parr_none.parquet',engine='pyarrow')"
      ],
      "metadata": {
        "id": "Aw55M_JPjSGR",
        "outputId": "b77c0942-6b8a-48a3-d141-3aeeea874770",
        "colab": {
          "base_uri": "https://localhost:8080/"
        }
      },
      "execution_count": 93,
      "outputs": [
        {
          "output_type": "stream",
          "name": "stdout",
          "text": [
            "CPU times: user 105 ms, sys: 136 ms, total: 241 ms\n",
            "Wall time: 167 ms\n"
          ]
        }
      ]
    },
    {
      "cell_type": "code",
      "source": [
        "%time df_fp_none = pd.read_parquet('test_fp_none.parquet',engine='fastparquet')"
      ],
      "metadata": {
        "id": "1pYRji0GjWiP",
        "outputId": "add19a04-087a-42ac-9404-e1d2c0f88101",
        "colab": {
          "base_uri": "https://localhost:8080/"
        }
      },
      "execution_count": 94,
      "outputs": [
        {
          "output_type": "stream",
          "name": "stdout",
          "text": [
            "CPU times: user 99.6 ms, sys: 120 ms, total: 219 ms\n",
            "Wall time: 221 ms\n"
          ]
        }
      ]
    },
    {
      "cell_type": "markdown",
      "source": [
        "### Memory Usage"
      ],
      "metadata": {
        "id": "I0Xp0vTNlMSy"
      }
    },
    {
      "cell_type": "code",
      "source": [
        "df_auto_none.info(memory_usage='deep', verbose=True)"
      ],
      "metadata": {
        "id": "6nkGSqWulOkd",
        "outputId": "2867222d-9be0-4ed3-f16b-b4bdf7ed82a9",
        "colab": {
          "base_uri": "https://localhost:8080/"
        }
      },
      "execution_count": 109,
      "outputs": [
        {
          "output_type": "stream",
          "name": "stdout",
          "text": [
            "<class 'pandas.core.frame.DataFrame'>\n",
            "RangeIndex: 1000000 entries, 0 to 999999\n",
            "Data columns (total 10 columns):\n",
            " #   Column  Non-Null Count    Dtype  \n",
            "---  ------  --------------    -----  \n",
            " 0   A       1000000 non-null  float64\n",
            " 1   B       1000000 non-null  float64\n",
            " 2   C       1000000 non-null  float64\n",
            " 3   D       1000000 non-null  float64\n",
            " 4   E       1000000 non-null  float64\n",
            " 5   F       1000000 non-null  int64  \n",
            " 6   G       1000000 non-null  int64  \n",
            " 7   H       1000000 non-null  int64  \n",
            " 8   I       1000000 non-null  int64  \n",
            " 9   J       1000000 non-null  object \n",
            "dtypes: float64(5), int64(4), object(1)\n",
            "memory usage: 129.4 MB\n"
          ]
        }
      ]
    },
    {
      "cell_type": "code",
      "source": [
        "df_parr_none.info(memory_usage='deep', verbose=True)"
      ],
      "metadata": {
        "id": "YbMAQCsYlaQq",
        "outputId": "dc7e7cec-a091-4bcf-e579-97ec2175d2c3",
        "colab": {
          "base_uri": "https://localhost:8080/"
        }
      },
      "execution_count": 110,
      "outputs": [
        {
          "output_type": "stream",
          "name": "stdout",
          "text": [
            "<class 'pandas.core.frame.DataFrame'>\n",
            "RangeIndex: 1000000 entries, 0 to 999999\n",
            "Data columns (total 10 columns):\n",
            " #   Column  Non-Null Count    Dtype  \n",
            "---  ------  --------------    -----  \n",
            " 0   A       1000000 non-null  float64\n",
            " 1   B       1000000 non-null  float64\n",
            " 2   C       1000000 non-null  float64\n",
            " 3   D       1000000 non-null  float64\n",
            " 4   E       1000000 non-null  float64\n",
            " 5   F       1000000 non-null  int64  \n",
            " 6   G       1000000 non-null  int64  \n",
            " 7   H       1000000 non-null  int64  \n",
            " 8   I       1000000 non-null  int64  \n",
            " 9   J       1000000 non-null  object \n",
            "dtypes: float64(5), int64(4), object(1)\n",
            "memory usage: 129.4 MB\n"
          ]
        }
      ]
    },
    {
      "cell_type": "code",
      "source": [
        "df_fp_none.info(memory_usage='deep', verbose=True)"
      ],
      "metadata": {
        "id": "fPvzAp-Rlfn5",
        "outputId": "562ff5e7-7b26-4d65-fe4a-ca4bf55f42c2",
        "colab": {
          "base_uri": "https://localhost:8080/"
        }
      },
      "execution_count": 111,
      "outputs": [
        {
          "output_type": "stream",
          "name": "stdout",
          "text": [
            "<class 'pandas.core.frame.DataFrame'>\n",
            "RangeIndex: 1000000 entries, 0 to 999999\n",
            "Data columns (total 10 columns):\n",
            " #   Column  Non-Null Count    Dtype  \n",
            "---  ------  --------------    -----  \n",
            " 0   A       1000000 non-null  float64\n",
            " 1   B       1000000 non-null  float64\n",
            " 2   C       1000000 non-null  float64\n",
            " 3   D       1000000 non-null  float64\n",
            " 4   E       1000000 non-null  float64\n",
            " 5   F       1000000 non-null  int64  \n",
            " 6   G       1000000 non-null  int64  \n",
            " 7   H       1000000 non-null  int64  \n",
            " 8   I       1000000 non-null  int64  \n",
            " 9   J       1000000 non-null  object \n",
            "dtypes: float64(5), int64(4), object(1)\n",
            "memory usage: 129.4 MB\n"
          ]
        }
      ]
    },
    {
      "cell_type": "markdown",
      "source": [
        "## Compression is Snappy"
      ],
      "metadata": {
        "id": "pjZcMXDCjstG"
      }
    },
    {
      "cell_type": "markdown",
      "source": [
        "### Time to write"
      ],
      "metadata": {
        "id": "Md57VBCSjxFY"
      }
    },
    {
      "cell_type": "code",
      "source": [
        "%time df.to_parquet('test_auto_snappy.parquet',engine='auto', compression='snappy')"
      ],
      "metadata": {
        "id": "olr22oTnjkXn",
        "outputId": "b81b2f65-b82c-408a-8798-0440b41380e4",
        "colab": {
          "base_uri": "https://localhost:8080/"
        }
      },
      "execution_count": 101,
      "outputs": [
        {
          "output_type": "stream",
          "name": "stdout",
          "text": [
            "CPU times: user 345 ms, sys: 145 ms, total: 490 ms\n",
            "Wall time: 522 ms\n"
          ]
        }
      ]
    },
    {
      "cell_type": "code",
      "source": [
        "%time df.to_parquet('test_parr_snappy.parquet',engine='pyarrow', compression='snappy')"
      ],
      "metadata": {
        "id": "TQHWtfGgj52b",
        "outputId": "d6c20eb8-b7a7-4419-ec3d-7d33d903715c",
        "colab": {
          "base_uri": "https://localhost:8080/"
        }
      },
      "execution_count": 102,
      "outputs": [
        {
          "output_type": "stream",
          "name": "stdout",
          "text": [
            "CPU times: user 355 ms, sys: 104 ms, total: 459 ms\n",
            "Wall time: 475 ms\n"
          ]
        }
      ]
    },
    {
      "cell_type": "code",
      "source": [
        "%time df.to_parquet('test_fp_snappy.parquet',engine='fastparquet', compression='snappy')"
      ],
      "metadata": {
        "id": "fhkIQG-Bj_Qg",
        "outputId": "0c15686a-78c4-4ee9-f838-bb10a11876c5",
        "colab": {
          "base_uri": "https://localhost:8080/"
        }
      },
      "execution_count": 103,
      "outputs": [
        {
          "output_type": "stream",
          "name": "stdout",
          "text": [
            "CPU times: user 714 ms, sys: 114 ms, total: 827 ms\n",
            "Wall time: 863 ms\n"
          ]
        }
      ]
    },
    {
      "cell_type": "markdown",
      "source": [
        "### File Size on disk"
      ],
      "metadata": {
        "id": "kFLqWlTqkH0b"
      }
    },
    {
      "cell_type": "code",
      "source": [
        "%%bash\n",
        "du -sh test_*_snappy.parquet"
      ],
      "metadata": {
        "id": "KIza2bFwkFdb",
        "outputId": "3c648b5c-68ad-405d-871d-825ce8adda4a",
        "colab": {
          "base_uri": "https://localhost:8080/"
        }
      },
      "execution_count": 104,
      "outputs": [
        {
          "output_type": "stream",
          "name": "stdout",
          "text": [
            "41M\ttest_auto_snappy.parquet\n",
            "45M\ttest_fp_snappy.parquet\n",
            "41M\ttest_parr_snappy.parquet\n"
          ]
        }
      ]
    },
    {
      "cell_type": "markdown",
      "source": [
        "### Time to read"
      ],
      "metadata": {
        "id": "Q1KSpEm3k2km"
      }
    },
    {
      "cell_type": "code",
      "source": [
        "%time df_auto_snappy = pd.read_parquet('test_auto_none.parquet',engine='auto')"
      ],
      "metadata": {
        "id": "viGbw3qlkQpQ",
        "outputId": "48311851-bfc3-4dd8-aa36-7f935df6af3f",
        "colab": {
          "base_uri": "https://localhost:8080/"
        }
      },
      "execution_count": 105,
      "outputs": [
        {
          "output_type": "stream",
          "name": "stdout",
          "text": [
            "CPU times: user 89.2 ms, sys: 386 ms, total: 476 ms\n",
            "Wall time: 295 ms\n"
          ]
        }
      ]
    },
    {
      "cell_type": "code",
      "source": [
        "%time df_parr_snappy = pd.read_parquet('test_parr_none.parquet',engine='pyarrow')"
      ],
      "metadata": {
        "id": "TvnpXSC1khQ_",
        "outputId": "db72a308-fc80-4f86-e19b-985900d2c40c",
        "colab": {
          "base_uri": "https://localhost:8080/"
        }
      },
      "execution_count": 106,
      "outputs": [
        {
          "output_type": "stream",
          "name": "stdout",
          "text": [
            "CPU times: user 93.3 ms, sys: 241 ms, total: 334 ms\n",
            "Wall time: 211 ms\n"
          ]
        }
      ]
    },
    {
      "cell_type": "code",
      "source": [
        "%time df_fp_snappy = pd.read_parquet('test_fp_none.parquet',engine='fastparquet')"
      ],
      "metadata": {
        "id": "BqwUtKGjk_1D",
        "outputId": "58965c32-e03e-44c5-d445-50c8836a7b07",
        "colab": {
          "base_uri": "https://localhost:8080/"
        }
      },
      "execution_count": 107,
      "outputs": [
        {
          "output_type": "stream",
          "name": "stdout",
          "text": [
            "CPU times: user 108 ms, sys: 100 ms, total: 208 ms\n",
            "Wall time: 210 ms\n"
          ]
        }
      ]
    },
    {
      "cell_type": "markdown",
      "source": [
        "### Memory Usage"
      ],
      "metadata": {
        "id": "mVbC3xtDlG_K"
      }
    },
    {
      "cell_type": "code",
      "source": [
        "df_auto_snappy.info(memory_usage='deep', verbose=True)"
      ],
      "metadata": {
        "id": "Q-PxhwialFo4",
        "outputId": "3ef80e7a-ae1e-48b1-9fe5-5db3d04a5615",
        "colab": {
          "base_uri": "https://localhost:8080/"
        }
      },
      "execution_count": 112,
      "outputs": [
        {
          "output_type": "stream",
          "name": "stdout",
          "text": [
            "<class 'pandas.core.frame.DataFrame'>\n",
            "RangeIndex: 1000000 entries, 0 to 999999\n",
            "Data columns (total 10 columns):\n",
            " #   Column  Non-Null Count    Dtype  \n",
            "---  ------  --------------    -----  \n",
            " 0   A       1000000 non-null  float64\n",
            " 1   B       1000000 non-null  float64\n",
            " 2   C       1000000 non-null  float64\n",
            " 3   D       1000000 non-null  float64\n",
            " 4   E       1000000 non-null  float64\n",
            " 5   F       1000000 non-null  int64  \n",
            " 6   G       1000000 non-null  int64  \n",
            " 7   H       1000000 non-null  int64  \n",
            " 8   I       1000000 non-null  int64  \n",
            " 9   J       1000000 non-null  object \n",
            "dtypes: float64(5), int64(4), object(1)\n",
            "memory usage: 129.4 MB\n"
          ]
        }
      ]
    },
    {
      "cell_type": "code",
      "source": [
        "df_parr_snappy.info(memory_usage='deep', verbose=True)"
      ],
      "metadata": {
        "id": "MEzvmcGdlrQ1",
        "outputId": "f9b4aeb0-089e-4269-ce7a-1e50f3b07ae7",
        "colab": {
          "base_uri": "https://localhost:8080/"
        }
      },
      "execution_count": 113,
      "outputs": [
        {
          "output_type": "stream",
          "name": "stdout",
          "text": [
            "<class 'pandas.core.frame.DataFrame'>\n",
            "RangeIndex: 1000000 entries, 0 to 999999\n",
            "Data columns (total 10 columns):\n",
            " #   Column  Non-Null Count    Dtype  \n",
            "---  ------  --------------    -----  \n",
            " 0   A       1000000 non-null  float64\n",
            " 1   B       1000000 non-null  float64\n",
            " 2   C       1000000 non-null  float64\n",
            " 3   D       1000000 non-null  float64\n",
            " 4   E       1000000 non-null  float64\n",
            " 5   F       1000000 non-null  int64  \n",
            " 6   G       1000000 non-null  int64  \n",
            " 7   H       1000000 non-null  int64  \n",
            " 8   I       1000000 non-null  int64  \n",
            " 9   J       1000000 non-null  object \n",
            "dtypes: float64(5), int64(4), object(1)\n",
            "memory usage: 129.4 MB\n"
          ]
        }
      ]
    },
    {
      "cell_type": "code",
      "source": [
        "df_fp_snappy.info(memory_usage='deep', verbose=True)"
      ],
      "metadata": {
        "id": "ThuZOk5llyxY",
        "outputId": "a5df48c4-53e4-494e-b788-136be605d4e2",
        "colab": {
          "base_uri": "https://localhost:8080/"
        }
      },
      "execution_count": 114,
      "outputs": [
        {
          "output_type": "stream",
          "name": "stdout",
          "text": [
            "<class 'pandas.core.frame.DataFrame'>\n",
            "RangeIndex: 1000000 entries, 0 to 999999\n",
            "Data columns (total 10 columns):\n",
            " #   Column  Non-Null Count    Dtype  \n",
            "---  ------  --------------    -----  \n",
            " 0   A       1000000 non-null  float64\n",
            " 1   B       1000000 non-null  float64\n",
            " 2   C       1000000 non-null  float64\n",
            " 3   D       1000000 non-null  float64\n",
            " 4   E       1000000 non-null  float64\n",
            " 5   F       1000000 non-null  int64  \n",
            " 6   G       1000000 non-null  int64  \n",
            " 7   H       1000000 non-null  int64  \n",
            " 8   I       1000000 non-null  int64  \n",
            " 9   J       1000000 non-null  object \n",
            "dtypes: float64(5), int64(4), object(1)\n",
            "memory usage: 129.4 MB\n"
          ]
        }
      ]
    },
    {
      "cell_type": "code",
      "source": [],
      "metadata": {
        "id": "_Hfjz5jnl3cf"
      },
      "execution_count": null,
      "outputs": []
    }
  ]
}